{
 "cells": [
  {
   "cell_type": "code",
   "execution_count": 1,
   "id": "afd9f59c",
   "metadata": {},
   "outputs": [],
   "source": [
    "import pandas as pd"
   ]
  },
  {
   "cell_type": "code",
   "execution_count": 138,
   "id": "dc48bf03",
   "metadata": {},
   "outputs": [],
   "source": [
    "train = pd.read_csv(\"train.csv\")\n",
    "test = pd.read_csv(\"test.csv\")"
   ]
  },
  {
   "cell_type": "markdown",
   "id": "566c07c4",
   "metadata": {},
   "source": [
    "## data processing"
   ]
  },
  {
   "cell_type": "code",
   "execution_count": 139,
   "id": "a9674c1a",
   "metadata": {
    "scrolled": true
   },
   "outputs": [
    {
     "data": {
      "text/html": [
       "<div>\n",
       "<style scoped>\n",
       "    .dataframe tbody tr th:only-of-type {\n",
       "        vertical-align: middle;\n",
       "    }\n",
       "\n",
       "    .dataframe tbody tr th {\n",
       "        vertical-align: top;\n",
       "    }\n",
       "\n",
       "    .dataframe thead th {\n",
       "        text-align: right;\n",
       "    }\n",
       "</style>\n",
       "<table border=\"1\" class=\"dataframe\">\n",
       "  <thead>\n",
       "    <tr style=\"text-align: right;\">\n",
       "      <th></th>\n",
       "      <th>property_id</th>\n",
       "      <th>property_name</th>\n",
       "      <th>property_summary</th>\n",
       "      <th>property_space</th>\n",
       "      <th>property_desc</th>\n",
       "      <th>property_neighborhood</th>\n",
       "      <th>property_notes</th>\n",
       "      <th>property_transit</th>\n",
       "      <th>property_access</th>\n",
       "      <th>property_interaction</th>\n",
       "      <th>...</th>\n",
       "      <th>reviews_rating</th>\n",
       "      <th>reviews_acc</th>\n",
       "      <th>reviews_cleanliness</th>\n",
       "      <th>reviews_checkin</th>\n",
       "      <th>reviews_communication</th>\n",
       "      <th>reviews_location</th>\n",
       "      <th>reviews_value</th>\n",
       "      <th>reviews_per_month</th>\n",
       "      <th>extra</th>\n",
       "      <th>target</th>\n",
       "    </tr>\n",
       "  </thead>\n",
       "  <tbody>\n",
       "    <tr>\n",
       "      <th>0</th>\n",
       "      <td>1</td>\n",
       "      <td>Chambre à louer,courte durée.</td>\n",
       "      <td>Je loue une chambre dans mon appartement \"atyp...</td>\n",
       "      <td>Espace duplex très grand et lumineux,la chambr...</td>\n",
       "      <td>Je loue une chambre dans mon appartement \"atyp...</td>\n",
       "      <td>NaN</td>\n",
       "      <td>NaN</td>\n",
       "      <td>Accès direct de la Gare du Nord  ( 4 arrêts de...</td>\n",
       "      <td>NaN</td>\n",
       "      <td>Je suis entièrement disponible pour tout échan...</td>\n",
       "      <td>...</td>\n",
       "      <td>97.0</td>\n",
       "      <td>10.0</td>\n",
       "      <td>9.0</td>\n",
       "      <td>10.0</td>\n",
       "      <td>10.0</td>\n",
       "      <td>9.0</td>\n",
       "      <td>10.0</td>\n",
       "      <td>1.31</td>\n",
       "      <td>Host Has Profile Pic</td>\n",
       "      <td>26</td>\n",
       "    </tr>\n",
       "    <tr>\n",
       "      <th>1</th>\n",
       "      <td>2</td>\n",
       "      <td>Urban Antwerp - Spacious &amp; Authentic Herenhouse</td>\n",
       "      <td>Our place is a typical historic herenhuis clos...</td>\n",
       "      <td>The spaces in our house are all large with hig...</td>\n",
       "      <td>Our place is a typical historic herenhuis clos...</td>\n",
       "      <td>Bar and restaurants One of our favourite bars ...</td>\n",
       "      <td>NaN</td>\n",
       "      <td>In Antwerp we have the system with rental bike...</td>\n",
       "      <td>You will be able to access the following space...</td>\n",
       "      <td>We are always available to help and assist whe...</td>\n",
       "      <td>...</td>\n",
       "      <td>100.0</td>\n",
       "      <td>10.0</td>\n",
       "      <td>10.0</td>\n",
       "      <td>10.0</td>\n",
       "      <td>10.0</td>\n",
       "      <td>8.0</td>\n",
       "      <td>10.0</td>\n",
       "      <td>1.00</td>\n",
       "      <td>Host Has Profile Pic, Is Location Exact</td>\n",
       "      <td>75</td>\n",
       "    </tr>\n",
       "    <tr>\n",
       "      <th>2</th>\n",
       "      <td>3</td>\n",
       "      <td>comfortable apartment in friendly neighborhood</td>\n",
       "      <td>Nice and cozy apartment for couples who like t...</td>\n",
       "      <td>Nice proper and clean apartment. No personal s...</td>\n",
       "      <td>Nice and cozy apartment for couples who like t...</td>\n",
       "      <td>Op 5 minuten lopen zijn er 2 gezellig stadpark...</td>\n",
       "      <td>Public transport is next to the apartment and ...</td>\n",
       "      <td>Fiets verhuur voor de deur. (dag/weekkaart) vi...</td>\n",
       "      <td>As a good host I trust my guest. No secrets an...</td>\n",
       "      <td>Ik ben altijd bereikbaar voor vragen, maar ben...</td>\n",
       "      <td>...</td>\n",
       "      <td>93.0</td>\n",
       "      <td>10.0</td>\n",
       "      <td>10.0</td>\n",
       "      <td>9.0</td>\n",
       "      <td>9.0</td>\n",
       "      <td>9.0</td>\n",
       "      <td>10.0</td>\n",
       "      <td>0.75</td>\n",
       "      <td>Host Has Profile Pic, Is Location Exact, Insta...</td>\n",
       "      <td>110</td>\n",
       "    </tr>\n",
       "    <tr>\n",
       "      <th>3</th>\n",
       "      <td>4</td>\n",
       "      <td>Historical City Antwerp.</td>\n",
       "      <td>The best place to stay if you like to be in th...</td>\n",
       "      <td>Our rooms are nice and spacious. You stay in a...</td>\n",
       "      <td>The best place to stay if you like to be in th...</td>\n",
       "      <td>In the middle of the historical city of Antwerp</td>\n",
       "      <td>Staying in our house you have to be able to cl...</td>\n",
       "      <td>Tram 10 and 11 from Central station stop in ou...</td>\n",
       "      <td>Beside your own room you can relax in the down...</td>\n",
       "      <td>We will be available to let you know where wha...</td>\n",
       "      <td>...</td>\n",
       "      <td>98.0</td>\n",
       "      <td>10.0</td>\n",
       "      <td>10.0</td>\n",
       "      <td>10.0</td>\n",
       "      <td>10.0</td>\n",
       "      <td>10.0</td>\n",
       "      <td>10.0</td>\n",
       "      <td>6.90</td>\n",
       "      <td>Host Is Superhost, Host Has Profile Pic, Host ...</td>\n",
       "      <td>60</td>\n",
       "    </tr>\n",
       "    <tr>\n",
       "      <th>4</th>\n",
       "      <td>5</td>\n",
       "      <td>Antwerp center city</td>\n",
       "      <td>Our place is right in the heart of the histori...</td>\n",
       "      <td>It is situated in the center if the old town. ...</td>\n",
       "      <td>Our place is right in the heart of the histori...</td>\n",
       "      <td>The neighborhood is in the historical part of ...</td>\n",
       "      <td>NaN</td>\n",
       "      <td>The easiest is just to walk into the city ther...</td>\n",
       "      <td>You will enter the house through the Downstair...</td>\n",
       "      <td>I will be present to help you out with any kin...</td>\n",
       "      <td>...</td>\n",
       "      <td>97.0</td>\n",
       "      <td>10.0</td>\n",
       "      <td>10.0</td>\n",
       "      <td>10.0</td>\n",
       "      <td>10.0</td>\n",
       "      <td>10.0</td>\n",
       "      <td>10.0</td>\n",
       "      <td>4.16</td>\n",
       "      <td>Host Is Superhost, Host Has Profile Pic, Host ...</td>\n",
       "      <td>55</td>\n",
       "    </tr>\n",
       "  </tbody>\n",
       "</table>\n",
       "<p>5 rows × 55 columns</p>\n",
       "</div>"
      ],
      "text/plain": [
       "   property_id                                    property_name  \\\n",
       "0            1                    Chambre à louer,courte durée.   \n",
       "1            2  Urban Antwerp - Spacious & Authentic Herenhouse   \n",
       "2            3   comfortable apartment in friendly neighborhood   \n",
       "3            4                         Historical City Antwerp.   \n",
       "4            5                              Antwerp center city   \n",
       "\n",
       "                                    property_summary  \\\n",
       "0  Je loue une chambre dans mon appartement \"atyp...   \n",
       "1  Our place is a typical historic herenhuis clos...   \n",
       "2  Nice and cozy apartment for couples who like t...   \n",
       "3  The best place to stay if you like to be in th...   \n",
       "4  Our place is right in the heart of the histori...   \n",
       "\n",
       "                                      property_space  \\\n",
       "0  Espace duplex très grand et lumineux,la chambr...   \n",
       "1  The spaces in our house are all large with hig...   \n",
       "2  Nice proper and clean apartment. No personal s...   \n",
       "3  Our rooms are nice and spacious. You stay in a...   \n",
       "4  It is situated in the center if the old town. ...   \n",
       "\n",
       "                                       property_desc  \\\n",
       "0  Je loue une chambre dans mon appartement \"atyp...   \n",
       "1  Our place is a typical historic herenhuis clos...   \n",
       "2  Nice and cozy apartment for couples who like t...   \n",
       "3  The best place to stay if you like to be in th...   \n",
       "4  Our place is right in the heart of the histori...   \n",
       "\n",
       "                               property_neighborhood  \\\n",
       "0                                                NaN   \n",
       "1  Bar and restaurants One of our favourite bars ...   \n",
       "2  Op 5 minuten lopen zijn er 2 gezellig stadpark...   \n",
       "3    In the middle of the historical city of Antwerp   \n",
       "4  The neighborhood is in the historical part of ...   \n",
       "\n",
       "                                      property_notes  \\\n",
       "0                                                NaN   \n",
       "1                                                NaN   \n",
       "2  Public transport is next to the apartment and ...   \n",
       "3  Staying in our house you have to be able to cl...   \n",
       "4                                                NaN   \n",
       "\n",
       "                                    property_transit  \\\n",
       "0  Accès direct de la Gare du Nord  ( 4 arrêts de...   \n",
       "1  In Antwerp we have the system with rental bike...   \n",
       "2  Fiets verhuur voor de deur. (dag/weekkaart) vi...   \n",
       "3  Tram 10 and 11 from Central station stop in ou...   \n",
       "4  The easiest is just to walk into the city ther...   \n",
       "\n",
       "                                     property_access  \\\n",
       "0                                                NaN   \n",
       "1  You will be able to access the following space...   \n",
       "2  As a good host I trust my guest. No secrets an...   \n",
       "3  Beside your own room you can relax in the down...   \n",
       "4  You will enter the house through the Downstair...   \n",
       "\n",
       "                                property_interaction  ... reviews_rating  \\\n",
       "0  Je suis entièrement disponible pour tout échan...  ...           97.0   \n",
       "1  We are always available to help and assist whe...  ...          100.0   \n",
       "2  Ik ben altijd bereikbaar voor vragen, maar ben...  ...           93.0   \n",
       "3  We will be available to let you know where wha...  ...           98.0   \n",
       "4  I will be present to help you out with any kin...  ...           97.0   \n",
       "\n",
       "  reviews_acc  reviews_cleanliness  reviews_checkin reviews_communication  \\\n",
       "0        10.0                  9.0             10.0                  10.0   \n",
       "1        10.0                 10.0             10.0                  10.0   \n",
       "2        10.0                 10.0              9.0                   9.0   \n",
       "3        10.0                 10.0             10.0                  10.0   \n",
       "4        10.0                 10.0             10.0                  10.0   \n",
       "\n",
       "  reviews_location  reviews_value  reviews_per_month  \\\n",
       "0              9.0           10.0               1.31   \n",
       "1              8.0           10.0               1.00   \n",
       "2              9.0           10.0               0.75   \n",
       "3             10.0           10.0               6.90   \n",
       "4             10.0           10.0               4.16   \n",
       "\n",
       "                                               extra  target  \n",
       "0                               Host Has Profile Pic      26  \n",
       "1            Host Has Profile Pic, Is Location Exact      75  \n",
       "2  Host Has Profile Pic, Is Location Exact, Insta...     110  \n",
       "3  Host Is Superhost, Host Has Profile Pic, Host ...      60  \n",
       "4  Host Is Superhost, Host Has Profile Pic, Host ...      55  \n",
       "\n",
       "[5 rows x 55 columns]"
      ]
     },
     "execution_count": 139,
     "metadata": {},
     "output_type": "execute_result"
    }
   ],
   "source": [
    "train.head()"
   ]
  },
  {
   "cell_type": "code",
   "execution_count": 140,
   "id": "5f193502",
   "metadata": {
    "scrolled": true
   },
   "outputs": [
    {
     "data": {
      "text/plain": [
       "(6495, 55)"
      ]
     },
     "execution_count": 140,
     "metadata": {},
     "output_type": "execute_result"
    }
   ],
   "source": [
    "train.shape"
   ]
  },
  {
   "cell_type": "code",
   "execution_count": 146,
   "id": "2c5f146a",
   "metadata": {
    "scrolled": true
   },
   "outputs": [
    {
     "data": {
      "text/plain": [
       "array([  nan, 1668., 1453.,    0., 1292.,  269., 1184.,  861.,  484.,\n",
       "        807.,  431.,  100.,  700.,  646.,  125., 2153.,   85.,  592.,\n",
       "        538.,  215., 3122.,  753.,  129.,  904.,  915.,  969., 1023.,\n",
       "       1000., 1615., 1076.,  151.,   90., 1830.,   55.,   25.,  258.,\n",
       "        517.,  323.,  344.,  452.,  775.,   65., 1345.,  194.,  301.,\n",
       "        377.,   35.,   40., 3229.,  172.,  160.])"
      ]
     },
     "execution_count": 146,
     "metadata": {},
     "output_type": "execute_result"
    }
   ],
   "source": [
    "train['property_sqfeet'].unique()"
   ]
  },
  {
   "cell_type": "code",
   "execution_count": 147,
   "id": "ee13f983",
   "metadata": {
    "scrolled": true
   },
   "outputs": [
    {
     "data": {
      "text/plain": [
       "property_id                    0\n",
       "property_name                 24\n",
       "property_summary             212\n",
       "property_space              2309\n",
       "property_desc                  3\n",
       "property_neighborhood       2811\n",
       "property_notes              4522\n",
       "property_transit            2580\n",
       "property_access             3135\n",
       "property_interaction        3404\n",
       "property_rules              3169\n",
       "property_zipcode             134\n",
       "property_lat                   0\n",
       "property_lon                   0\n",
       "property_type                  0\n",
       "property_room_type             0\n",
       "property_max_guests            0\n",
       "property_bathrooms            12\n",
       "property_bedrooms              9\n",
       "property_beds                 11\n",
       "property_bed_type              0\n",
       "property_amenities            52\n",
       "property_sqfeet             6333\n",
       "property_scraped_at            0\n",
       "property_last_updated          0\n",
       "host_id                        0\n",
       "host_since                     1\n",
       "host_location                 33\n",
       "host_about                  3107\n",
       "host_response_time          1461\n",
       "host_response_rate          1461\n",
       "host_nr_listings               1\n",
       "host_nr_listings_total         1\n",
       "host_verified                  0\n",
       "booking_price_covers           0\n",
       "booking_min_nights             0\n",
       "booking_max_nights             0\n",
       "booking_availability_30        0\n",
       "booking_availability_60        0\n",
       "booking_availability_90        0\n",
       "booking_availability_365       0\n",
       "booking_cancel_policy          0\n",
       "reviews_num                    0\n",
       "reviews_first               1290\n",
       "reviews_last                1290\n",
       "reviews_rating              1383\n",
       "reviews_acc                 1399\n",
       "reviews_cleanliness         1397\n",
       "reviews_checkin             1401\n",
       "reviews_communication       1396\n",
       "reviews_location            1403\n",
       "reviews_value               1405\n",
       "reviews_per_month           1290\n",
       "extra                          5\n",
       "target                         0\n",
       "dtype: int64"
      ]
     },
     "execution_count": 147,
     "metadata": {},
     "output_type": "execute_result"
    }
   ],
   "source": [
    "train.isna().sum()"
   ]
  },
  {
   "cell_type": "code",
   "execution_count": 148,
   "id": "68d95903",
   "metadata": {},
   "outputs": [],
   "source": [
    "free_text_cols = ['property_name', 'property_summary', 'property_space',\n",
    "       'property_desc', 'property_neighborhood', 'property_notes',\n",
    "       'property_transit', 'property_access', 'property_interaction',\n",
    "       'property_rules', 'host_about']\n",
    "missing_value = ['property_sqfeet']"
   ]
  },
  {
   "cell_type": "code",
   "execution_count": 149,
   "id": "a1c21a8f",
   "metadata": {
    "scrolled": true
   },
   "outputs": [
    {
     "data": {
      "text/html": [
       "<div>\n",
       "<style scoped>\n",
       "    .dataframe tbody tr th:only-of-type {\n",
       "        vertical-align: middle;\n",
       "    }\n",
       "\n",
       "    .dataframe tbody tr th {\n",
       "        vertical-align: top;\n",
       "    }\n",
       "\n",
       "    .dataframe thead th {\n",
       "        text-align: right;\n",
       "    }\n",
       "</style>\n",
       "<table border=\"1\" class=\"dataframe\">\n",
       "  <thead>\n",
       "    <tr style=\"text-align: right;\">\n",
       "      <th></th>\n",
       "      <th>property_zipcode</th>\n",
       "      <th>property_lat</th>\n",
       "      <th>property_lon</th>\n",
       "      <th>property_type</th>\n",
       "      <th>property_room_type</th>\n",
       "      <th>property_max_guests</th>\n",
       "      <th>property_bathrooms</th>\n",
       "      <th>property_bedrooms</th>\n",
       "      <th>property_beds</th>\n",
       "      <th>property_bed_type</th>\n",
       "      <th>...</th>\n",
       "      <th>reviews_rating</th>\n",
       "      <th>reviews_acc</th>\n",
       "      <th>reviews_cleanliness</th>\n",
       "      <th>reviews_checkin</th>\n",
       "      <th>reviews_communication</th>\n",
       "      <th>reviews_location</th>\n",
       "      <th>reviews_value</th>\n",
       "      <th>reviews_per_month</th>\n",
       "      <th>extra</th>\n",
       "      <th>target</th>\n",
       "    </tr>\n",
       "  </thead>\n",
       "  <tbody>\n",
       "    <tr>\n",
       "      <th>0</th>\n",
       "      <td>NaN</td>\n",
       "      <td>50.858451</td>\n",
       "      <td>4.376594</td>\n",
       "      <td>Apartment</td>\n",
       "      <td>Private room</td>\n",
       "      <td>1</td>\n",
       "      <td>1.0</td>\n",
       "      <td>1.0</td>\n",
       "      <td>1.0</td>\n",
       "      <td>Real Bed</td>\n",
       "      <td>...</td>\n",
       "      <td>97.0</td>\n",
       "      <td>10.0</td>\n",
       "      <td>9.0</td>\n",
       "      <td>10.0</td>\n",
       "      <td>10.0</td>\n",
       "      <td>9.0</td>\n",
       "      <td>10.0</td>\n",
       "      <td>1.31</td>\n",
       "      <td>Host Has Profile Pic</td>\n",
       "      <td>26</td>\n",
       "    </tr>\n",
       "    <tr>\n",
       "      <th>1</th>\n",
       "      <td>2600</td>\n",
       "      <td>51.194744</td>\n",
       "      <td>4.413748</td>\n",
       "      <td>House</td>\n",
       "      <td>Entire home/apt</td>\n",
       "      <td>4</td>\n",
       "      <td>1.5</td>\n",
       "      <td>2.0</td>\n",
       "      <td>2.0</td>\n",
       "      <td>Real Bed</td>\n",
       "      <td>...</td>\n",
       "      <td>100.0</td>\n",
       "      <td>10.0</td>\n",
       "      <td>10.0</td>\n",
       "      <td>10.0</td>\n",
       "      <td>10.0</td>\n",
       "      <td>8.0</td>\n",
       "      <td>10.0</td>\n",
       "      <td>1.00</td>\n",
       "      <td>Host Has Profile Pic, Is Location Exact</td>\n",
       "      <td>75</td>\n",
       "    </tr>\n",
       "    <tr>\n",
       "      <th>2</th>\n",
       "      <td>2018</td>\n",
       "      <td>51.192501</td>\n",
       "      <td>4.409351</td>\n",
       "      <td>Condominium</td>\n",
       "      <td>Entire home/apt</td>\n",
       "      <td>2</td>\n",
       "      <td>1.0</td>\n",
       "      <td>1.0</td>\n",
       "      <td>1.0</td>\n",
       "      <td>Real Bed</td>\n",
       "      <td>...</td>\n",
       "      <td>93.0</td>\n",
       "      <td>10.0</td>\n",
       "      <td>10.0</td>\n",
       "      <td>9.0</td>\n",
       "      <td>9.0</td>\n",
       "      <td>9.0</td>\n",
       "      <td>10.0</td>\n",
       "      <td>0.75</td>\n",
       "      <td>Host Has Profile Pic, Is Location Exact, Insta...</td>\n",
       "      <td>110</td>\n",
       "    </tr>\n",
       "    <tr>\n",
       "      <th>3</th>\n",
       "      <td>2000</td>\n",
       "      <td>51.220145</td>\n",
       "      <td>4.405446</td>\n",
       "      <td>House</td>\n",
       "      <td>Private room</td>\n",
       "      <td>2</td>\n",
       "      <td>1.0</td>\n",
       "      <td>1.0</td>\n",
       "      <td>1.0</td>\n",
       "      <td>Real Bed</td>\n",
       "      <td>...</td>\n",
       "      <td>98.0</td>\n",
       "      <td>10.0</td>\n",
       "      <td>10.0</td>\n",
       "      <td>10.0</td>\n",
       "      <td>10.0</td>\n",
       "      <td>10.0</td>\n",
       "      <td>10.0</td>\n",
       "      <td>6.90</td>\n",
       "      <td>Host Is Superhost, Host Has Profile Pic, Host ...</td>\n",
       "      <td>60</td>\n",
       "    </tr>\n",
       "    <tr>\n",
       "      <th>4</th>\n",
       "      <td>2000</td>\n",
       "      <td>51.222028</td>\n",
       "      <td>4.404945</td>\n",
       "      <td>House</td>\n",
       "      <td>Private room</td>\n",
       "      <td>2</td>\n",
       "      <td>1.0</td>\n",
       "      <td>1.0</td>\n",
       "      <td>1.0</td>\n",
       "      <td>Real Bed</td>\n",
       "      <td>...</td>\n",
       "      <td>97.0</td>\n",
       "      <td>10.0</td>\n",
       "      <td>10.0</td>\n",
       "      <td>10.0</td>\n",
       "      <td>10.0</td>\n",
       "      <td>10.0</td>\n",
       "      <td>10.0</td>\n",
       "      <td>4.16</td>\n",
       "      <td>Host Is Superhost, Host Has Profile Pic, Host ...</td>\n",
       "      <td>55</td>\n",
       "    </tr>\n",
       "  </tbody>\n",
       "</table>\n",
       "<p>5 rows × 41 columns</p>\n",
       "</div>"
      ],
      "text/plain": [
       "  property_zipcode  property_lat  property_lon property_type  \\\n",
       "0              NaN     50.858451      4.376594     Apartment   \n",
       "1             2600     51.194744      4.413748         House   \n",
       "2             2018     51.192501      4.409351   Condominium   \n",
       "3             2000     51.220145      4.405446         House   \n",
       "4             2000     51.222028      4.404945         House   \n",
       "\n",
       "  property_room_type  property_max_guests  property_bathrooms  \\\n",
       "0       Private room                    1                 1.0   \n",
       "1    Entire home/apt                    4                 1.5   \n",
       "2    Entire home/apt                    2                 1.0   \n",
       "3       Private room                    2                 1.0   \n",
       "4       Private room                    2                 1.0   \n",
       "\n",
       "   property_bedrooms  property_beds property_bed_type  ... reviews_rating  \\\n",
       "0                1.0            1.0          Real Bed  ...           97.0   \n",
       "1                2.0            2.0          Real Bed  ...          100.0   \n",
       "2                1.0            1.0          Real Bed  ...           93.0   \n",
       "3                1.0            1.0          Real Bed  ...           98.0   \n",
       "4                1.0            1.0          Real Bed  ...           97.0   \n",
       "\n",
       "  reviews_acc reviews_cleanliness reviews_checkin reviews_communication  \\\n",
       "0        10.0                 9.0            10.0                  10.0   \n",
       "1        10.0                10.0            10.0                  10.0   \n",
       "2        10.0                10.0             9.0                   9.0   \n",
       "3        10.0                10.0            10.0                  10.0   \n",
       "4        10.0                10.0            10.0                  10.0   \n",
       "\n",
       "  reviews_location  reviews_value  reviews_per_month  \\\n",
       "0              9.0           10.0               1.31   \n",
       "1              8.0           10.0               1.00   \n",
       "2              9.0           10.0               0.75   \n",
       "3             10.0           10.0               6.90   \n",
       "4             10.0           10.0               4.16   \n",
       "\n",
       "                                               extra target  \n",
       "0                               Host Has Profile Pic     26  \n",
       "1            Host Has Profile Pic, Is Location Exact     75  \n",
       "2  Host Has Profile Pic, Is Location Exact, Insta...    110  \n",
       "3  Host Is Superhost, Host Has Profile Pic, Host ...     60  \n",
       "4  Host Is Superhost, Host Has Profile Pic, Host ...     55  \n",
       "\n",
       "[5 rows x 41 columns]"
      ]
     },
     "execution_count": 149,
     "metadata": {},
     "output_type": "execute_result"
    }
   ],
   "source": [
    "# can property_id indicate the time the host has been on airbnb?\n",
    "# host who has more properties will be more expensive? keep host_id?\n",
    "cols_to_drop= ['property_id'] + free_text_cols + missing_value + ['host_id']\n",
    "train2 = train.drop(cols_to_drop, axis=1)\n",
    "train2.head()"
   ]
  },
  {
   "cell_type": "code",
   "execution_count": 150,
   "id": "cc411b99",
   "metadata": {
    "scrolled": true
   },
   "outputs": [],
   "source": [
    "#train2 = train2.host_response_time.add_categories(['missing'])\n",
    "train2['host_response_time']=train2.host_response_time.fillna('missing')"
   ]
  },
  {
   "cell_type": "code",
   "execution_count": 151,
   "id": "24b0b353",
   "metadata": {
    "scrolled": true
   },
   "outputs": [],
   "source": [
    "train2['reviews_first']=train2.reviews_first.fillna('missing')"
   ]
  },
  {
   "cell_type": "code",
   "execution_count": 152,
   "id": "be550880",
   "metadata": {},
   "outputs": [],
   "source": [
    "col_reviews=['reviews_first', 'reviews_last', 'reviews_rating', 'reviews_acc',\n",
    "       'reviews_cleanliness', 'reviews_checkin', 'reviews_communication',\n",
    "       'reviews_location', 'reviews_value', 'reviews_per_month']\n",
    "for i in col_reviews:\n",
    "    train2[i]=train2[i].fillna('missing')"
   ]
  },
  {
   "cell_type": "code",
   "execution_count": null,
   "id": "7ac0a9ac",
   "metadata": {},
   "outputs": [],
   "source": [
    "#outliers?"
   ]
  },
  {
   "cell_type": "code",
   "execution_count": 154,
   "id": "75d378ef",
   "metadata": {
    "scrolled": true
   },
   "outputs": [
    {
     "data": {
      "text/plain": [
       "array(['Brussels, Brussels, Belgium', 'Antwerp, Flanders, Belgium',\n",
       "       'Belgium', 'Saint-Gilles, Brussels, Belgium',\n",
       "       'Tübingen, Baden-Wurttemberg, Germany',\n",
       "       'Schaerbeek, Brussels, Belgium', 'Brussels, Belgium', 'BE',\n",
       "       'Paris, Île-de-France, France', 'Uccle, Brussels, Belgium',\n",
       "       'Woluwe-Saint-Lambert, Brussels, Belgium',\n",
       "       'Watermael-Boitsfort, Brussels, Belgium',\n",
       "       'Berlin, Berlin, Germany', 'Ixelles, Brussels, Belgium',\n",
       "       'Brussels, Bruxelles, Belgium', 'France', nan,\n",
       "       'Amsterdam, North Holland, Netherlands',\n",
       "       'London, England, United Kingdom', 'Forest, Brussels, Belgium',\n",
       "       'United States', 'Rennes, Brittany, France',\n",
       "       'Pantin, Île-de-France, France', 'NL',\n",
       "       'Etterbeek, Brussels, Belgium',\n",
       "       \"Braine-l'Alleud, Walloon Region, Belgium\",\n",
       "       'Chania, Crete Region, Greece', 'Auderghem, Brussels, Belgium',\n",
       "       'Naples, Campania, Italy', 'Bergamo, Lombardy, Italy',\n",
       "       'La Forest-Landerneau, Brittany, France',\n",
       "       'Kruibeke, Flanders, Belgium', 'Concepción, Bío Bío Region, Chile',\n",
       "       'Sint-Jans-Molenbeek, Brussels, Belgium',\n",
       "       'Bruges, Flanders, Belgium', 'ES', 'FR',\n",
       "       'Tivoli, New York, United States', 'Lisbon, Lisbon, Portugal',\n",
       "       'Wezembeek-Oppem, Flanders, Belgium',\n",
       "       'Bordeaux, Aquitaine, France', 'Kraainem, Flanders, Belgium',\n",
       "       'Washington, District of Columbia, United States',\n",
       "       'Montreal, Quebec, Canada', 'Wuustwezel, Flanders, Belgium',\n",
       "       'Antwerpen, Flemish Region, Belgium', 'Asse, Flanders, Belgium',\n",
       "       'Kowloon, Hong Kong',\n",
       "       'Trento, Trentino-Alto Adige/South Tyrol, Italy',\n",
       "       'Genappe, Walloon Region, Belgium',\n",
       "       \"Gap, Provence-Alpes-Côte d'Azur, France\",\n",
       "       'Koekelberg, Brussels, Belgium', 'Montreal, Québec, Canada',\n",
       "       'Antwerpen, Vlaams Gewest, Belgium', 'Evere, Brussels, Belgium',\n",
       "       'Antwerp, Flemish Region, Belgium', 'Vannes, Brittany, France',\n",
       "       'City of Brussels, Brussels, Belgium',\n",
       "       'Capital District, Venezuela', 'Houston, Texas, United States',\n",
       "       'belgium', 'Gesves, Walloon Region, Belgium',\n",
       "       'Woluwe-Saint-Pierre, Brussels, Belgium', 'Milan, Lombardy, Italy',\n",
       "       'Anderlecht, Brussels, Belgium', 'CA', 'Lyon, Rhone-Alpes, France',\n",
       "       'Auvergne-Rhône-Alpes, France', 'RU',\n",
       "       'Nantes, Pays de la Loire, France', 'Barcelona, Catalonia, Spain',\n",
       "       'Arendonk, Flanders, Belgium', 'Hoogstraten, Flanders, Belgium',\n",
       "       'Bucharest, Bucharest, Romania', 'Schilde, Flanders, Belgium',\n",
       "       '1080 Brussels, Brussels, Belgium',\n",
       "       'Lille, Nord-Pas-de-Calais, France', 'CN',\n",
       "       'Nijlen, Flanders, Belgium', 'Ravels, Flanders, Belgium',\n",
       "       \"Aix-en-Provence, Provence-Alpes-Côte d'Azur, France\",\n",
       "       'Namur, Walloon Region, Belgium', 'Zoersel, Flanders, Belgium',\n",
       "       'Los Angeles, California, United States',\n",
       "       'Vigneux-sur-Seine, Île-de-France, France',\n",
       "       'Wavre, Walloon Region, Belgium', 'Waregem, Flanders, Belgium',\n",
       "       'Gagny, Île-de-France, France', 'DE',\n",
       "       'Marche-en-Famenne, Walloon Region, Belgium',\n",
       "       'Sligo, Sligo, Ireland', 'Kapellen, Flanders, Belgium',\n",
       "       'Saint-Josse-ten-Noode, Brussels, Belgium',\n",
       "       'Brasschaat, Flanders, Belgium', 'Izegem, Flanders, Belgium',\n",
       "       'Aywaille, Walloon Region, Belgium',\n",
       "       'Santa Clara, California, United States',\n",
       "       'Antwerp, Vlaams Gewest, Belgium',\n",
       "       \"Callian, Provence-Alpes-Côte d'Azur, France\",\n",
       "       'Sainte-Enimie, Languedoc-Roussillon, France',\n",
       "       'Brussels, Brussel Hoofdstedelijk Gewest, Belgium',\n",
       "       'Ternat, Flanders, Belgium', 'Madrid, Madrid, Spain', 'District',\n",
       "       'IT', 'Jette, Brussels, Belgium',\n",
       "       'Sint-Niklaas, Flanders, Belgium',\n",
       "       'Goes, Zeeland, The Netherlands', 'US',\n",
       "       'Guadalajara, Jalisco, Mexico', 'Grobbendonk, Flanders, Belgium',\n",
       "       'Lausanne, Vaud, Switzerland', 'Vorst, Brussels, Belgium',\n",
       "       'Jacksonville, Florida, United States', 'Malaga, Andalucía, Spain',\n",
       "       'Stekene, Flanders, Belgium',\n",
       "       'Levallois-Perret, Île-de-France, France',\n",
       "       'Lyon, Auvergne-Rhône-Alpes, France', 'Ninove, Flanders, Belgium',\n",
       "       'Rome, Lazio, Italy', 'Spa, Walloon Region, Belgium',\n",
       "       'Wemmel, Flanders, Belgium', 'Frankfurt, Hesse, Germany',\n",
       "       'Hull, England, United Kingdom', 'Genval, Walloon Region, Belgium',\n",
       "       'Phnom Penh, Phnom Penh, Cambodia', 'Strasbourg, Alsace, France',\n",
       "       'New York, New York, United States', 'Midi-Pyrénées, France',\n",
       "       'Waasmunster, Flanders, Belgium', 'Hasselt, Flanders, Belgium',\n",
       "       \"Nice, Provence-Alpes-Côte d'Azur, France\",\n",
       "       'Saint-Martin-de-Londres, Languedoc-Roussillon-Midi-Pyrénées, France',\n",
       "       'Reykjavík, Capital Region, Iceland', 'London/UK',\n",
       "       'Sydney, New South Wales, Australia', 'Beersel, Flanders, Belgium',\n",
       "       'Capri, Campania, Italy', 'Versailles, Île-de-France, France',\n",
       "       'Sucy-en-Brie, Île-de-France, France', 'Binic, Brittany, France',\n",
       "       'Port-au-Prince, Ouest, Haiti',\n",
       "       'Sarlat-la-Canéda, Aquitaine, France',\n",
       "       'Épinac, Bourgogne-Franche-Comté, France',\n",
       "       'Rabat, Rabat-Salé-Zemmour-Zaer, Morocco',\n",
       "       'Grez-Doiceau, Walloon Region, Belgium',\n",
       "       'Veulen, Limburg, The Netherlands',\n",
       "       'Saint-Jean-de-Serres, Languedoc-Roussillon, France',\n",
       "       'Leymen, Alsace, France', 'Middelkerke, Flanders, Belgium',\n",
       "       'Liege, Walloon Region, Belgium',\n",
       "       'Middelburg, Zeeland, Netherlands', 'Hemiksem, Flanders, Belgium',\n",
       "       'Granada, Andalusia, Spain',\n",
       "       'Septfontaines, Luxembourg, Luxembourg',\n",
       "       'Toulouse, Midi-Pyrénées, France', 'Mechelen, Flanders, Belgium',\n",
       "       'Rafina, Attica, Greece', 'belgië',\n",
       "       'Amsterdam, North Holland, The Netherlands',\n",
       "       'Breda, North Brabant, Netherlands',\n",
       "       'Kapellen, Belgium, Flanders, Belgium',\n",
       "       'Sofia, Sofia-city, Bulgaria', 'Luçon, Pays de la Loire, France',\n",
       "       'Nuoro, Sardegna, Italy', 'Sint-Genesius-Rode, Flanders, Belgium',\n",
       "       'Saint-Lô, Normandy, France',\n",
       "       'Stockholm, Stockholm County, Sweden', 'China',\n",
       "       'Ghent, Flanders, Belgium', 'United Kingdom',\n",
       "       'Bogotá, Bogota, Colombia', 'Ko Phangan, Surat Thani, Thailand',\n",
       "       'Joinville-le-Pont, Île-de-France, France',\n",
       "       'Ohain, Walloon Region, Belgium', 'Prague, Prague, Czech Republic',\n",
       "       'Besançon, Franche-Comté, France', 'Gavere, Flanders, Belgium',\n",
       "       'GB', 'Colon, Colon, Panama', 'Bois-le-Roi, Île-de-France, France',\n",
       "       'Düsseldorf, North Rhine-Westphalia, Germany',\n",
       "       'Woluwe-Saint-Lambert, Bruxelles, Belgium', 'Flanders, Belgium',\n",
       "       'Cairo, Al Qahirah, Egypt',\n",
       "       'La Rochelle, Poitou-Charentes, France',\n",
       "       'Prague, Hlavní město Praha, Czech Republic',\n",
       "       'Mons, Walloon Region, Belgium', 'Antwerp/London',\n",
       "       'Merchtem, Flanders, Belgium', 'Angers, Pays de la Loire, France',\n",
       "       'Ibiza, Balearic Islands, Spain',\n",
       "       'Hainaut, Walloon Region, Belgium', 'Vasa',\n",
       "       'Putte, North Brabant, Netherlands',\n",
       "       'Lambersart, Nord-Pas-de-Calais-Picardie, France',\n",
       "       'Ganshoren, Brussels, Belgium', 'Gaillac, Midi-Pyrénées, France',\n",
       "       'Florence, Toscana, Italy', 'Grone, Lombardy, Italy', 'Monaco',\n",
       "       'GR', 'Tourcoing, Nord-Pas-de-Calais, France',\n",
       "       'Voorthuizen, Gelderland, Netherlands',\n",
       "       'Bourg-la-Reine, Île-de-France, France',\n",
       "       'Portofino, Liguria, Italy', 'Maastricht, Limburg, Netherlands',\n",
       "       'Bons-en-Chablais, Rhone-Alpes, France',\n",
       "       'Sint-Agatha-Berchem, Brussels, Belgium', 'belgique',\n",
       "       'Flemish Brabant, Flanders, Belgium',\n",
       "       'Libreville, Estuaire, Gabon',\n",
       "       \"Marseille, Provence-Alpes-Côte d'Azur, France\",\n",
       "       'Myslowice, Silesian Voivodeship, Poland',\n",
       "       'Utrecht, Utrecht, Netherlands',\n",
       "       'Thomas, West Virginia, United States', 'Moscow, Moscow, Russia',\n",
       "       'Linkebeek, Flanders, Belgium',\n",
       "       'Chaumont-Gistoux, Walloon Region, Belgium',\n",
       "       'Nancy, Lorraine, France', 'here and there and everywhere :)',\n",
       "       'Beauvechain, Walloon Region, Belgium',\n",
       "       'Clermont-Ferrand, Auvergne, France',\n",
       "       'Galmaarden, Flanders, Belgium',\n",
       "       'Röthenbach an der Pegnitz, Bavaria, Germany',\n",
       "       'Tours, Centre, France', 'Sint-Jans-Molenbeek, Bruxelles, Belgium',\n",
       "       'Chaville, Île-de-France, France', 'Uccle, Brussel, Belgium',\n",
       "       'Mouvaux, Hauts-de-France, France', 'Málaga, Andalusia, Spain',\n",
       "       'Sint-Niklaas, Vlaams Gewest, Belgium',\n",
       "       'Vosselaar, Flanders, Belgium',\n",
       "       'Mouscron, Walloon Region, Belgium', 'CH',\n",
       "       'Road Town, Tortola, British Virgin Islands',\n",
       "       'Riom, Auvergne, France', 'Odense, Region Syddanmark, Denmark',\n",
       "       'Montreuil, Île-de-France, France',\n",
       "       'Castelnaudary, Languedoc-Roussillon, France',\n",
       "       'Bruxelles (BE) ou Bourg ST Maurice en Savoie (FR)',\n",
       "       'City Of Brussels, Brussels, Belgium',\n",
       "       'Ivry-sur-Seine, Île-de-France, France',\n",
       "       'Court-St.-Etienne, Walloon Region, Belgium',\n",
       "       'Bergen, Noord-Holland, Netherlands',\n",
       "       'Liège, Walloon Region, Belgium', 'Leuven, Flanders, Belgium',\n",
       "       'Bornem, Flanders, Belgium', 'Deurne, Vlaams Gewest, Belgium',\n",
       "       'Schaerbeek, Bruxelles, Belgium', 'Brussels/London',\n",
       "       'Tubize, Walloon Region, Belgium', 'London, United Kingdom',\n",
       "       'Saint Vith, Walloon Region, Belgium', 'Amman, Amman, Jordan',\n",
       "       'Ixelles, Bruxelles, Belgium', 'Schelle, Flanders, Belgium',\n",
       "       'Turin, Piedmont, Italy', 'Terneuzen, Zeeland, Netherlands',\n",
       "       'Dilbeek, Flanders, Belgium',\n",
       "       'Humières, Nord-Pas-de-Calais, France', 'Hove, Flanders, Belgium',\n",
       "       'Rio de Janeiro, State of Rio de Janeiro, Brazil',\n",
       "       'Schwarzenberg, Saxony, Germany',\n",
       "       'Madrid, Community of Madrid, Spain',\n",
       "       'Tintigny, Walloon Region, Belgium',\n",
       "       'Alexandria, Virginia, United States',\n",
       "       'Miami, Florida, United States',\n",
       "       'Saint-Gilles, Bruxelles, Belgium', 'Ronse, Flanders, Belgium',\n",
       "       'Dessel, Flanders, Belgium',\n",
       "       'Fontenay-sous-Bois, Île-de-France, France', 'België',\n",
       "       'Molsheim, Alsace-Champagne-Ardenne-Lorraine, France',\n",
       "       'Geneva, Geneva, Switzerland', 'Nederland',\n",
       "       'Vorselaar, Flanders, Belgium', 'Budapest, Budapest, Hungary',\n",
       "       'Besançon, Bourgogne-Franche-Comté, France',\n",
       "       'Chisinau, Chisinau, Moldova', 'Munich, Bavaria, Germany',\n",
       "       'Donchery, Champagne-Ardenne, France',\n",
       "       'Abergele, Wales, United Kingdom', 'Overijse, Flanders, Belgium',\n",
       "       'Kortrijk, Flanders, Belgium',\n",
       "       \"'s-Hertogenbosch, North Brabant, Netherlands\",\n",
       "       'Rixensart, Walloon Region, Belgium', 'Calabria, Italy',\n",
       "       'Cascais, Lisbon, Portugal', 'Forli, Emilia-Romagna, Italy',\n",
       "       'Luxembourg', 'Kruishoutem, Flanders, Belgium', 'niet vast',\n",
       "       'Wisconsin, United States', 'Ostend, Flanders, Belgium',\n",
       "       'Chambéry, Rhone-Alpes, France',\n",
       "       'Copenhagen, Capital Region of Denmark, Denmark',\n",
       "       'Brussels, Illinois, United States',\n",
       "       'Saint-Maur-des-Fossés, Île-de-France, France',\n",
       "       'St-Pieters-Woluwe, Brussels, Belgium',\n",
       "       'Bruselas, Córdoba, Colombia',\n",
       "       'Charenton-le-Pont, Île-de-France, France',\n",
       "       'Borneo, Pichincha, Ecuador', 'Turnhout, Flanders, Belgium',\n",
       "       'Herne, Flanders, Belgium', 'Tomares, Andalucía, Spain',\n",
       "       'Ruisbroek, Vlaanderen, Belgium', 'Castres, Midi-Pyrénées, France',\n",
       "       'Dubai, Dubai, United Arab Emirates',\n",
       "       'Kampenhout, Flanders, Belgium', 'BXLS',\n",
       "       'Seattle, Washington, United States',\n",
       "       'Boechout, Flanders, Belgium', 'Waterloo, Walloon Region, Belgium',\n",
       "       'Bernissart, Walloon Region, Belgium', 'Belgie',\n",
       "       'Ittre, Walloon Region, Belgium', 'Antwerpen, Flanders, Belgium',\n",
       "       'CZ', 'Zwijndrecht, Flanders, Belgium',\n",
       "       'Tournai, Walloon Region, Belgium',\n",
       "       'Wattrelos, Nord-Pas-de-Calais, France',\n",
       "       'La Hulpe, Walloon Region, Belgium', 'Asmara, Central, Eritrea',\n",
       "       'Perpignan, Languedoc-Roussillon, France', 'Mbour, Thies, Senegal',\n",
       "       'Sint-Gillis-Waas, Flanders, Belgium', 'Lagos, Faro, Portugal',\n",
       "       'Saint-Omer, Nord-Pas-de-Calais, France',\n",
       "       'Dusseldorf, North Rhine-Westphalia, Germany',\n",
       "       'Ankara, Ankara, Turkey', 'Tervuren, Flanders, Belgium',\n",
       "       'Kortenaken, Flanders, Belgium', 'Lagraulière, Limousin, France',\n",
       "       'Casablanca, Grand Casablanca, Morocco',\n",
       "       'Ajaccio, Corsica, France', 'Schoten, Vlaams Gewest, Belgium',\n",
       "       'Mortsel, Flanders, Belgium',\n",
       "       'Mouvaux, Nord-Pas-de-Calais-Picardie, France',\n",
       "       'Valencia, Valencian Community, Spain',\n",
       "       'Incourt, Walloon Region, Belgium',\n",
       "       'Sint-Pieters-Leeuw, Flanders, Belgium',\n",
       "       'Edegem, Flanders, Belgium', 'Beijing, Beijing, China',\n",
       "       'Murcia, Region of Murcia, Spain',\n",
       "       'Kraków, Lesser Poland Voivodeship, Poland',\n",
       "       'Lille, Hauts-de-France, France',\n",
       "       \"Eygalières, Provence-Alpes-Côte d'Azur, France\",\n",
       "       \"Pont-l'Abbé, Brittany, France\", 'Waterford, Waterford, Ireland',\n",
       "       'Como, Lombardia, Italy',\n",
       "       'Saint-Amand-les-Eaux, Nord-Pas-de-Calais, France',\n",
       "       'Sin-le-Noble, Nord-Pas-de-Calais-Picardie, France',\n",
       "       'Thorigné-Fouillard, Brittany, France',\n",
       "       'Weidingen, Diekirch, Luxembourg', '1030 Bruxelles',\n",
       "       'Waterloo, Ontario, Canada', 'Zeeland, Netherlands',\n",
       "       'Schoten, Flanders, Belgium', 'Autre-Église, Wallonie, Belgium',\n",
       "       'Bagnes, Valais, Switzerland',\n",
       "       'Lincoln, Rhode Island, United States',\n",
       "       'Almansa, Castile-La Mancha, Spain',\n",
       "       'Toulouse, Languedoc-Roussillon-Midi-Pyrénées, France',\n",
       "       'The Hague, South Holland, Netherlands',\n",
       "       'Lucena, Andalucía, Spain', 'Edegem, Vlaams Gewest, Belgium',\n",
       "       'Argentat, Aquitaine-Limousin-Poitou-Charentes, France',\n",
       "       'Eindhoven, North Brabant, Netherlands', 'Belgique',\n",
       "       'Charleroi, Walloon Region, Belgium',\n",
       "       'Saint-Zotique, Québec, Canada',\n",
       "       'Metropolitan City of Milan, Lombardy, Italy',\n",
       "       'Eyzin-Pinet, Auvergne-Rhône-Alpes, France',\n",
       "       'Nazareth, Flanders, Belgium', 'Herentals, Flanders, Belgium',\n",
       "       'Isla de la Palma, Canarias, Spain',\n",
       "       \"Ginasservis, Provence-Alpes-Côte d'Azur, France\",\n",
       "       'Gent, Flemish Region, Belgium',\n",
       "       'Luxembourg City, Luxembourg, Luxembourg',\n",
       "       'Dinan, Brittany, France', 'Zürich, Zurich, Switzerland',\n",
       "       'Ploemeur, Brittany, France', 'Aalst, Flanders, Belgium',\n",
       "       'Leipzig, Saxony, Germany',\n",
       "       'Montpellier, Languedoc-Roussillon-Midi-Pyrénées, France',\n",
       "       'Rosières, Région wallonne, Belgium', 'Italy',\n",
       "       'Nivelles, Walloon Region, Belgium',\n",
       "       'Genval, Région wallonne, Belgium',\n",
       "       'Moergestel, North Brabant, Netherlands',\n",
       "       'Käerjeng, Luxembourg District, Luxembourg',\n",
       "       'Heusden-Zolder, Flanders, Belgium', 'Ancona, Marche, Italy',\n",
       "       'Ottignies-Louvain-la-Neuve, Walloon Region, Belgium',\n",
       "       'Ticuantepe, Managua, Nicaragua',\n",
       "       'Ellezelles, Walloon Region, Belgium',\n",
       "       'Enschede, Overijssel, Netherlands',\n",
       "       'São Paulo, State of São Paulo, Brazil',\n",
       "       'Weinheim, Baden-Württemberg, Germany',\n",
       "       'Sint-Gillis-Waas, Vlaams Gewest, Belgium',\n",
       "       'Betton, Brittany, France',\n",
       "       'Buenos Aires, Autonomous City of Buenos Aires, Argentina',\n",
       "       'Athens, Attica, Greece', 'Kaslik, Mount Lebanon, Lebanon',\n",
       "       'Vellereille-le-Sec, Région wallonne, Belgium',\n",
       "       'Orsay, Île-de-France, France',\n",
       "       'Rotterdam, South Holland, The Netherlands',\n",
       "       'Montpellier, Languedoc-Roussillon, France',\n",
       "       'Buenos Aires, Argentina', 'Gembloux, Walloon Region, Belgium',\n",
       "       'Béziers, France', 'Hambye, Lower Normandy, France',\n",
       "       'Beveren, Flanders, Belgium', 'Ath, Walloon Region, Belgium',\n",
       "       'Grimbergen, Flanders, Belgium',\n",
       "       'Kapellen, Flemish Region, Belgium', 'Marche, Italy',\n",
       "       'Hombourg-Haut, Lorraine, France',\n",
       "       'La Louvière, Walloon Region, Belgium',\n",
       "       'Saint-Trojan-les-Bains, Aquitaine-Limousin-Poitou-Charentes, France',\n",
       "       'Sint-Genesius-Rode, Vlaams Gewest, Belgium',\n",
       "       'Rotterdam, South Holland, Netherlands',\n",
       "       'Neuves-Maisons, Alsace-Champagne-Ardenne-Lorraine, France',\n",
       "       'Halle, Flanders, Belgium', 'Jodoigne, Walloon Region, Belgium',\n",
       "       'Walhain, Walloon Region, Belgium',\n",
       "       'Rodez, Languedoc-Roussillon-Midi-Pyrénées, France',\n",
       "       'Seichamps, Lorraine, France', 'Zaventem, Flanders, Belgium',\n",
       "       'Palermo, Sicilia, Italy', 'Wortel, Vlaanderen, Belgium',\n",
       "       'Boechout, Flemish Region, Belgium', 'Girona, Catalonia, Spain',\n",
       "       'Bogota, Bogota, Colombia', 'Zaragoza, Aragon, Spain',\n",
       "       'Vienna, Vienna, Austria', 'Grenade, Midi-Pyrénées, France', 'KR',\n",
       "       'LU', 'Rijeka, Primorje-Gorski Kotar County, Croatia', 'Hong Kong',\n",
       "       'Singapore', 'Europe', 'Roeselare, Flanders, Belgium', 'Canada',\n",
       "       'Earth, Texas, United States', 'Dinant, Walloon Region, Belgium',\n",
       "       'Groningen, Groningen, Netherlands',\n",
       "       'Luc-la-Primaube, Languedoc-Roussillon-Midi-Pyrénées, France',\n",
       "       'Puidoux, Vaud, Switzerland',\n",
       "       'Mansle, Aquitaine-Limousin-Poitou-Charentes, France',\n",
       "       'Keerbergen, Flanders, Belgium'], dtype=object)"
      ]
     },
     "execution_count": 154,
     "metadata": {},
     "output_type": "execute_result"
    }
   ],
   "source": [
    "# the location are not defined uniformly, better to use zip codes\n",
    "train2['host_location'].unique()"
   ]
  },
  {
   "cell_type": "code",
   "execution_count": 155,
   "id": "58606415",
   "metadata": {},
   "outputs": [
    {
     "data": {
      "text/plain": [
       "property_zipcode            134\n",
       "property_lat                  0\n",
       "property_lon                  0\n",
       "property_type                 0\n",
       "property_room_type            0\n",
       "property_max_guests           0\n",
       "property_bathrooms           12\n",
       "property_bedrooms             9\n",
       "property_beds                11\n",
       "property_bed_type             0\n",
       "property_amenities           52\n",
       "property_last_updated         0\n",
       "host_since                    1\n",
       "host_response_time            0\n",
       "host_nr_listings              1\n",
       "host_nr_listings_total        1\n",
       "host_verified                 0\n",
       "booking_price_covers          0\n",
       "booking_min_nights            0\n",
       "booking_max_nights            0\n",
       "booking_availability_30       0\n",
       "booking_availability_60       0\n",
       "booking_availability_90       0\n",
       "booking_availability_365      0\n",
       "booking_cancel_policy         0\n",
       "reviews_num                   0\n",
       "reviews_first                 0\n",
       "reviews_last                  0\n",
       "reviews_rating                0\n",
       "reviews_acc                   0\n",
       "reviews_cleanliness           0\n",
       "reviews_checkin               0\n",
       "reviews_communication         0\n",
       "reviews_location              0\n",
       "reviews_value                 0\n",
       "reviews_per_month             0\n",
       "extra                         5\n",
       "target                        0\n",
       "dtype: int64"
      ]
     },
     "execution_count": 155,
     "metadata": {},
     "output_type": "execute_result"
    }
   ],
   "source": [
    "others = ['host_response_rate', 'property_scraped_at', 'host_location']\n",
    "# keep location\n",
    "train3=train2.drop(others,axis=1)\n",
    "train3.isna().sum()"
   ]
  },
  {
   "cell_type": "code",
   "execution_count": 187,
   "id": "fa280af8",
   "metadata": {},
   "outputs": [],
   "source": [
    "# what if the test set has the na for these features?\n",
    "# later, we can also predict zipcode from the precious position?\n",
    "train4 =train3.dropna(subset = ['host_since', 'extra', 'property_zipcode'])"
   ]
  },
  {
   "cell_type": "code",
   "execution_count": 188,
   "id": "3caeb760",
   "metadata": {
    "scrolled": true
   },
   "outputs": [
    {
     "data": {
      "text/plain": [
       "property_zipcode             0\n",
       "property_lat                 0\n",
       "property_lon                 0\n",
       "property_type                0\n",
       "property_room_type           0\n",
       "property_max_guests          0\n",
       "property_bathrooms          11\n",
       "property_bedrooms            7\n",
       "property_beds                7\n",
       "property_bed_type            0\n",
       "property_amenities          51\n",
       "property_last_updated        0\n",
       "host_since                   0\n",
       "host_response_time           0\n",
       "host_nr_listings             0\n",
       "host_nr_listings_total       0\n",
       "host_verified                0\n",
       "booking_price_covers         0\n",
       "booking_min_nights           0\n",
       "booking_max_nights           0\n",
       "booking_availability_30      0\n",
       "booking_availability_60      0\n",
       "booking_availability_90      0\n",
       "booking_availability_365     0\n",
       "booking_cancel_policy        0\n",
       "reviews_num                  0\n",
       "reviews_first                0\n",
       "reviews_last                 0\n",
       "reviews_rating               0\n",
       "reviews_acc                  0\n",
       "reviews_cleanliness          0\n",
       "reviews_checkin              0\n",
       "reviews_communication        0\n",
       "reviews_location             0\n",
       "reviews_value                0\n",
       "reviews_per_month            0\n",
       "extra                        0\n",
       "target                       0\n",
       "dtype: int64"
      ]
     },
     "execution_count": 188,
     "metadata": {},
     "output_type": "execute_result"
    }
   ],
   "source": [
    "train4.isna().sum()"
   ]
  },
  {
   "cell_type": "code",
   "execution_count": 189,
   "id": "b2ed7ae4",
   "metadata": {
    "scrolled": true
   },
   "outputs": [
    {
     "name": "stderr",
     "output_type": "stream",
     "text": [
      "/var/folders/ps/310fvxcx6y55_xvdkg77780h0000gn/T/ipykernel_65704/3397865589.py:1: SettingWithCopyWarning: \n",
      "A value is trying to be set on a copy of a slice from a DataFrame.\n",
      "Try using .loc[row_indexer,col_indexer] = value instead\n",
      "\n",
      "See the caveats in the documentation: https://pandas.pydata.org/pandas-docs/stable/user_guide/indexing.html#returning-a-view-versus-a-copy\n",
      "  train4['property_bathrooms']=train4['property_bathrooms'].fillna(0)\n",
      "/var/folders/ps/310fvxcx6y55_xvdkg77780h0000gn/T/ipykernel_65704/3397865589.py:2: SettingWithCopyWarning: \n",
      "A value is trying to be set on a copy of a slice from a DataFrame.\n",
      "Try using .loc[row_indexer,col_indexer] = value instead\n",
      "\n",
      "See the caveats in the documentation: https://pandas.pydata.org/pandas-docs/stable/user_guide/indexing.html#returning-a-view-versus-a-copy\n",
      "  train4['property_beds']=train4['property_beds'].fillna(0)\n",
      "/var/folders/ps/310fvxcx6y55_xvdkg77780h0000gn/T/ipykernel_65704/3397865589.py:3: SettingWithCopyWarning: \n",
      "A value is trying to be set on a copy of a slice from a DataFrame.\n",
      "Try using .loc[row_indexer,col_indexer] = value instead\n",
      "\n",
      "See the caveats in the documentation: https://pandas.pydata.org/pandas-docs/stable/user_guide/indexing.html#returning-a-view-versus-a-copy\n",
      "  train4['property_bedrooms']=train4['property_bedrooms'].fillna(0)\n",
      "/var/folders/ps/310fvxcx6y55_xvdkg77780h0000gn/T/ipykernel_65704/3397865589.py:4: SettingWithCopyWarning: \n",
      "A value is trying to be set on a copy of a slice from a DataFrame.\n",
      "Try using .loc[row_indexer,col_indexer] = value instead\n",
      "\n",
      "See the caveats in the documentation: https://pandas.pydata.org/pandas-docs/stable/user_guide/indexing.html#returning-a-view-versus-a-copy\n",
      "  train4['property_amenities']=train4['property_amenities'].fillna('missing')\n"
     ]
    }
   ],
   "source": [
    "train4['property_bathrooms']=train4['property_bathrooms'].fillna(0)\n",
    "train4['property_beds']=train4['property_beds'].fillna(0)\n",
    "train4['property_bedrooms']=train4['property_bedrooms'].fillna(0)\n",
    "train4['property_amenities']=train4['property_amenities'].fillna('missing')"
   ]
  },
  {
   "cell_type": "code",
   "execution_count": 190,
   "id": "7b81f6a5",
   "metadata": {
    "scrolled": true
   },
   "outputs": [
    {
     "data": {
      "text/plain": [
       "property_zipcode            0\n",
       "property_lat                0\n",
       "property_lon                0\n",
       "property_type               0\n",
       "property_room_type          0\n",
       "property_max_guests         0\n",
       "property_bathrooms          0\n",
       "property_bedrooms           0\n",
       "property_beds               0\n",
       "property_bed_type           0\n",
       "property_amenities          0\n",
       "property_last_updated       0\n",
       "host_since                  0\n",
       "host_response_time          0\n",
       "host_nr_listings            0\n",
       "host_nr_listings_total      0\n",
       "host_verified               0\n",
       "booking_price_covers        0\n",
       "booking_min_nights          0\n",
       "booking_max_nights          0\n",
       "booking_availability_30     0\n",
       "booking_availability_60     0\n",
       "booking_availability_90     0\n",
       "booking_availability_365    0\n",
       "booking_cancel_policy       0\n",
       "reviews_num                 0\n",
       "reviews_first               0\n",
       "reviews_last                0\n",
       "reviews_rating              0\n",
       "reviews_acc                 0\n",
       "reviews_cleanliness         0\n",
       "reviews_checkin             0\n",
       "reviews_communication       0\n",
       "reviews_location            0\n",
       "reviews_value               0\n",
       "reviews_per_month           0\n",
       "extra                       0\n",
       "target                      0\n",
       "dtype: int64"
      ]
     },
     "execution_count": 190,
     "metadata": {},
     "output_type": "execute_result"
    }
   ],
   "source": [
    "train4.isna().sum()"
   ]
  },
  {
   "cell_type": "code",
   "execution_count": 191,
   "id": "24aeb62d",
   "metadata": {
    "scrolled": true
   },
   "outputs": [
    {
     "data": {
      "text/plain": [
       "property_id                   0\n",
       "property_name                 3\n",
       "property_summary             13\n",
       "property_space              352\n",
       "property_desc                 1\n",
       "property_neighborhood       464\n",
       "property_notes              598\n",
       "property_transit            427\n",
       "property_access             473\n",
       "property_interaction        520\n",
       "property_rules              480\n",
       "property_zipcode             14\n",
       "property_lat                  0\n",
       "property_lon                  0\n",
       "property_type                 0\n",
       "property_room_type            0\n",
       "property_max_guests           0\n",
       "property_bathrooms            1\n",
       "property_bedrooms             0\n",
       "property_beds                 3\n",
       "property_bed_type             0\n",
       "property_amenities            9\n",
       "property_sqfeet             889\n",
       "property_scraped_at           0\n",
       "property_last_updated         0\n",
       "host_id                       0\n",
       "host_since                    0\n",
       "host_location                 7\n",
       "host_about                  411\n",
       "host_response_time          196\n",
       "host_response_rate          196\n",
       "host_nr_listings              0\n",
       "host_nr_listings_total        0\n",
       "host_verified                 0\n",
       "booking_price_covers          0\n",
       "booking_min_nights            0\n",
       "booking_max_nights            0\n",
       "booking_availability_30       0\n",
       "booking_availability_60       0\n",
       "booking_availability_90       0\n",
       "booking_availability_365      0\n",
       "booking_cancel_policy         0\n",
       "reviews_num                   0\n",
       "reviews_first               199\n",
       "reviews_last                199\n",
       "reviews_rating              207\n",
       "reviews_acc                 208\n",
       "reviews_cleanliness         208\n",
       "reviews_checkin             208\n",
       "reviews_communication       208\n",
       "reviews_location            208\n",
       "reviews_value               208\n",
       "reviews_per_month           199\n",
       "extra                         0\n",
       "dtype: int64"
      ]
     },
     "execution_count": 191,
     "metadata": {},
     "output_type": "execute_result"
    }
   ],
   "source": [
    "test.isna().sum()"
   ]
  },
  {
   "cell_type": "code",
   "execution_count": 192,
   "id": "a8495c28",
   "metadata": {},
   "outputs": [],
   "source": [
    "df=train4.copy()"
   ]
  },
  {
   "cell_type": "code",
   "execution_count": 193,
   "id": "53264474",
   "metadata": {
    "scrolled": true
   },
   "outputs": [
    {
     "data": {
      "text/html": [
       "<div>\n",
       "<style scoped>\n",
       "    .dataframe tbody tr th:only-of-type {\n",
       "        vertical-align: middle;\n",
       "    }\n",
       "\n",
       "    .dataframe tbody tr th {\n",
       "        vertical-align: top;\n",
       "    }\n",
       "\n",
       "    .dataframe thead th {\n",
       "        text-align: right;\n",
       "    }\n",
       "</style>\n",
       "<table border=\"1\" class=\"dataframe\">\n",
       "  <thead>\n",
       "    <tr style=\"text-align: right;\">\n",
       "      <th></th>\n",
       "      <th>property_zipcode</th>\n",
       "      <th>property_lat</th>\n",
       "      <th>property_lon</th>\n",
       "      <th>property_type</th>\n",
       "      <th>property_room_type</th>\n",
       "      <th>property_max_guests</th>\n",
       "      <th>property_bathrooms</th>\n",
       "      <th>property_bedrooms</th>\n",
       "      <th>property_beds</th>\n",
       "      <th>property_bed_type</th>\n",
       "      <th>...</th>\n",
       "      <th>reviews_rating</th>\n",
       "      <th>reviews_acc</th>\n",
       "      <th>reviews_cleanliness</th>\n",
       "      <th>reviews_checkin</th>\n",
       "      <th>reviews_communication</th>\n",
       "      <th>reviews_location</th>\n",
       "      <th>reviews_value</th>\n",
       "      <th>reviews_per_month</th>\n",
       "      <th>extra</th>\n",
       "      <th>target</th>\n",
       "    </tr>\n",
       "  </thead>\n",
       "  <tbody>\n",
       "    <tr>\n",
       "      <th>1</th>\n",
       "      <td>2600</td>\n",
       "      <td>51.194744</td>\n",
       "      <td>4.413748</td>\n",
       "      <td>House</td>\n",
       "      <td>Entire home/apt</td>\n",
       "      <td>4</td>\n",
       "      <td>1.5</td>\n",
       "      <td>2.0</td>\n",
       "      <td>2.0</td>\n",
       "      <td>Real Bed</td>\n",
       "      <td>...</td>\n",
       "      <td>100.0</td>\n",
       "      <td>10.0</td>\n",
       "      <td>10.0</td>\n",
       "      <td>10.0</td>\n",
       "      <td>10.0</td>\n",
       "      <td>8.0</td>\n",
       "      <td>10.0</td>\n",
       "      <td>1.0</td>\n",
       "      <td>Host Has Profile Pic, Is Location Exact</td>\n",
       "      <td>75</td>\n",
       "    </tr>\n",
       "    <tr>\n",
       "      <th>2</th>\n",
       "      <td>2018</td>\n",
       "      <td>51.192501</td>\n",
       "      <td>4.409351</td>\n",
       "      <td>Condominium</td>\n",
       "      <td>Entire home/apt</td>\n",
       "      <td>2</td>\n",
       "      <td>1.0</td>\n",
       "      <td>1.0</td>\n",
       "      <td>1.0</td>\n",
       "      <td>Real Bed</td>\n",
       "      <td>...</td>\n",
       "      <td>93.0</td>\n",
       "      <td>10.0</td>\n",
       "      <td>10.0</td>\n",
       "      <td>9.0</td>\n",
       "      <td>9.0</td>\n",
       "      <td>9.0</td>\n",
       "      <td>10.0</td>\n",
       "      <td>0.75</td>\n",
       "      <td>Host Has Profile Pic, Is Location Exact, Insta...</td>\n",
       "      <td>110</td>\n",
       "    </tr>\n",
       "    <tr>\n",
       "      <th>3</th>\n",
       "      <td>2000</td>\n",
       "      <td>51.220145</td>\n",
       "      <td>4.405446</td>\n",
       "      <td>House</td>\n",
       "      <td>Private room</td>\n",
       "      <td>2</td>\n",
       "      <td>1.0</td>\n",
       "      <td>1.0</td>\n",
       "      <td>1.0</td>\n",
       "      <td>Real Bed</td>\n",
       "      <td>...</td>\n",
       "      <td>98.0</td>\n",
       "      <td>10.0</td>\n",
       "      <td>10.0</td>\n",
       "      <td>10.0</td>\n",
       "      <td>10.0</td>\n",
       "      <td>10.0</td>\n",
       "      <td>10.0</td>\n",
       "      <td>6.9</td>\n",
       "      <td>Host Is Superhost, Host Has Profile Pic, Host ...</td>\n",
       "      <td>60</td>\n",
       "    </tr>\n",
       "    <tr>\n",
       "      <th>4</th>\n",
       "      <td>2000</td>\n",
       "      <td>51.222028</td>\n",
       "      <td>4.404945</td>\n",
       "      <td>House</td>\n",
       "      <td>Private room</td>\n",
       "      <td>2</td>\n",
       "      <td>1.0</td>\n",
       "      <td>1.0</td>\n",
       "      <td>1.0</td>\n",
       "      <td>Real Bed</td>\n",
       "      <td>...</td>\n",
       "      <td>97.0</td>\n",
       "      <td>10.0</td>\n",
       "      <td>10.0</td>\n",
       "      <td>10.0</td>\n",
       "      <td>10.0</td>\n",
       "      <td>10.0</td>\n",
       "      <td>10.0</td>\n",
       "      <td>4.16</td>\n",
       "      <td>Host Is Superhost, Host Has Profile Pic, Host ...</td>\n",
       "      <td>55</td>\n",
       "    </tr>\n",
       "    <tr>\n",
       "      <th>5</th>\n",
       "      <td>1060</td>\n",
       "      <td>50.830194</td>\n",
       "      <td>4.350654</td>\n",
       "      <td>House</td>\n",
       "      <td>Private room</td>\n",
       "      <td>2</td>\n",
       "      <td>2.0</td>\n",
       "      <td>1.0</td>\n",
       "      <td>1.0</td>\n",
       "      <td>Real Bed</td>\n",
       "      <td>...</td>\n",
       "      <td>94.0</td>\n",
       "      <td>10.0</td>\n",
       "      <td>8.0</td>\n",
       "      <td>10.0</td>\n",
       "      <td>10.0</td>\n",
       "      <td>9.0</td>\n",
       "      <td>10.0</td>\n",
       "      <td>3.56</td>\n",
       "      <td>Host Has Profile Pic, Host Identity Verified, ...</td>\n",
       "      <td>139</td>\n",
       "    </tr>\n",
       "  </tbody>\n",
       "</table>\n",
       "<p>5 rows × 38 columns</p>\n",
       "</div>"
      ],
      "text/plain": [
       "  property_zipcode  property_lat  property_lon property_type  \\\n",
       "1             2600     51.194744      4.413748         House   \n",
       "2             2018     51.192501      4.409351   Condominium   \n",
       "3             2000     51.220145      4.405446         House   \n",
       "4             2000     51.222028      4.404945         House   \n",
       "5             1060     50.830194      4.350654         House   \n",
       "\n",
       "  property_room_type  property_max_guests  property_bathrooms  \\\n",
       "1    Entire home/apt                    4                 1.5   \n",
       "2    Entire home/apt                    2                 1.0   \n",
       "3       Private room                    2                 1.0   \n",
       "4       Private room                    2                 1.0   \n",
       "5       Private room                    2                 2.0   \n",
       "\n",
       "   property_bedrooms  property_beds property_bed_type  ... reviews_rating  \\\n",
       "1                2.0            2.0          Real Bed  ...          100.0   \n",
       "2                1.0            1.0          Real Bed  ...           93.0   \n",
       "3                1.0            1.0          Real Bed  ...           98.0   \n",
       "4                1.0            1.0          Real Bed  ...           97.0   \n",
       "5                1.0            1.0          Real Bed  ...           94.0   \n",
       "\n",
       "  reviews_acc reviews_cleanliness reviews_checkin  reviews_communication  \\\n",
       "1        10.0                10.0            10.0                   10.0   \n",
       "2        10.0                10.0             9.0                    9.0   \n",
       "3        10.0                10.0            10.0                   10.0   \n",
       "4        10.0                10.0            10.0                   10.0   \n",
       "5        10.0                 8.0            10.0                   10.0   \n",
       "\n",
       "   reviews_location reviews_value  reviews_per_month  \\\n",
       "1               8.0          10.0                1.0   \n",
       "2               9.0          10.0               0.75   \n",
       "3              10.0          10.0                6.9   \n",
       "4              10.0          10.0               4.16   \n",
       "5               9.0          10.0               3.56   \n",
       "\n",
       "                                               extra  target  \n",
       "1            Host Has Profile Pic, Is Location Exact      75  \n",
       "2  Host Has Profile Pic, Is Location Exact, Insta...     110  \n",
       "3  Host Is Superhost, Host Has Profile Pic, Host ...      60  \n",
       "4  Host Is Superhost, Host Has Profile Pic, Host ...      55  \n",
       "5  Host Has Profile Pic, Host Identity Verified, ...     139  \n",
       "\n",
       "[5 rows x 38 columns]"
      ]
     },
     "execution_count": 193,
     "metadata": {},
     "output_type": "execute_result"
    }
   ],
   "source": [
    "df.head()"
   ]
  },
  {
   "cell_type": "code",
   "execution_count": 194,
   "id": "669805ff",
   "metadata": {},
   "outputs": [],
   "source": [
    "import datetime\n",
    "now=datetime.datetime.now()"
   ]
  },
  {
   "cell_type": "code",
   "execution_count": 195,
   "id": "5a51bde5",
   "metadata": {},
   "outputs": [],
   "source": [
    "df['host_since']=pd.to_datetime(df['host_since'])\n",
    "df['host_days'] = (now-df['host_since']).dt.days\n",
    "df = df.drop('host_since', axis=1)"
   ]
  },
  {
   "cell_type": "code",
   "execution_count": 196,
   "id": "61a262ee",
   "metadata": {},
   "outputs": [],
   "source": [
    "#df['property_scraped_at'].unique()\n",
    "#array(['2017-05-12', '2017-05-08', '2017-05-09'], dtype=object)"
   ]
  },
  {
   "cell_type": "code",
   "execution_count": 197,
   "id": "89c51e0f",
   "metadata": {
    "scrolled": false
   },
   "outputs": [
    {
     "data": {
      "text/plain": [
       "(6357, 9095)"
      ]
     },
     "execution_count": 197,
     "metadata": {},
     "output_type": "execute_result"
    }
   ],
   "source": [
    "pd.get_dummies(df).shape # cannot use dummy encoding"
   ]
  },
  {
   "cell_type": "code",
   "execution_count": 198,
   "id": "a4626cbe",
   "metadata": {},
   "outputs": [],
   "source": [
    "object_type_cols=list(df.select_dtypes(include='object').columns)"
   ]
  },
  {
   "cell_type": "code",
   "execution_count": 199,
   "id": "ca8d3ebc",
   "metadata": {},
   "outputs": [
    {
     "data": {
      "text/plain": [
       "['property_zipcode',\n",
       " 'property_lat',\n",
       " 'property_lon',\n",
       " 'property_type',\n",
       " 'property_room_type',\n",
       " 'property_max_guests',\n",
       " 'property_bathrooms',\n",
       " 'property_bedrooms',\n",
       " 'property_beds',\n",
       " 'property_bed_type',\n",
       " 'property_amenities',\n",
       " 'property_last_updated',\n",
       " 'host_response_time',\n",
       " 'host_nr_listings',\n",
       " 'host_nr_listings_total',\n",
       " 'host_verified',\n",
       " 'booking_price_covers',\n",
       " 'booking_min_nights',\n",
       " 'booking_max_nights',\n",
       " 'booking_availability_30',\n",
       " 'booking_availability_60',\n",
       " 'booking_availability_90',\n",
       " 'booking_availability_365',\n",
       " 'booking_cancel_policy',\n",
       " 'reviews_num',\n",
       " 'reviews_first',\n",
       " 'reviews_last',\n",
       " 'reviews_rating',\n",
       " 'reviews_acc',\n",
       " 'reviews_cleanliness',\n",
       " 'reviews_checkin',\n",
       " 'reviews_communication',\n",
       " 'reviews_location',\n",
       " 'reviews_value',\n",
       " 'reviews_per_month',\n",
       " 'extra',\n",
       " 'target',\n",
       " 'host_days']"
      ]
     },
     "execution_count": 199,
     "metadata": {},
     "output_type": "execute_result"
    }
   ],
   "source": [
    "list(df.columns)"
   ]
  },
  {
   "cell_type": "code",
   "execution_count": 200,
   "id": "209bc25f",
   "metadata": {},
   "outputs": [
    {
     "data": {
      "text/plain": [
       "['property_zipcode',\n",
       " 'property_type',\n",
       " 'property_room_type',\n",
       " 'property_bed_type',\n",
       " 'property_amenities',\n",
       " 'property_last_updated',\n",
       " 'host_response_time',\n",
       " 'host_verified',\n",
       " 'booking_cancel_policy',\n",
       " 'reviews_first',\n",
       " 'reviews_last',\n",
       " 'reviews_rating',\n",
       " 'reviews_acc',\n",
       " 'reviews_cleanliness',\n",
       " 'reviews_checkin',\n",
       " 'reviews_communication',\n",
       " 'reviews_location',\n",
       " 'reviews_value',\n",
       " 'reviews_per_month',\n",
       " 'extra']"
      ]
     },
     "execution_count": 200,
     "metadata": {},
     "output_type": "execute_result"
    }
   ],
   "source": [
    "object_type_cols"
   ]
  },
  {
   "cell_type": "code",
   "execution_count": 201,
   "id": "07f7598a",
   "metadata": {},
   "outputs": [],
   "source": [
    "from sklearn import preprocessing\n",
    "# label_encoder object knows how to understand word labels.\n",
    "label_encoder = preprocessing.LabelEncoder()\n",
    "# Encode labels in column 'species'.\n",
    "for i in object_type_cols:\n",
    "    df[i] = df[i].astype(str)\n",
    "    df[i]= label_encoder.fit_transform(df[i])"
   ]
  },
  {
   "cell_type": "markdown",
   "id": "085b464b",
   "metadata": {},
   "source": [
    "## simple model (include only important features, exclude free text cols for now)"
   ]
  },
  {
   "cell_type": "code",
   "execution_count": 202,
   "id": "d4185393",
   "metadata": {},
   "outputs": [],
   "source": [
    "from sklearn.model_selection import train_test_split\n",
    "train_df, val_df = train_test_split(df, test_size=0.2)\n",
    "X_train=train_df.drop('target',axis=1)\n",
    "y_train=train_df['target']\n",
    "\n",
    "y_val=val_df['target']"
   ]
  },
  {
   "cell_type": "code",
   "execution_count": 203,
   "id": "92e9496d",
   "metadata": {},
   "outputs": [
    {
     "data": {
      "text/plain": [
       "RandomForestRegressor(max_depth=30, random_state=0)"
      ]
     },
     "execution_count": 203,
     "metadata": {},
     "output_type": "execute_result"
    }
   ],
   "source": [
    "from sklearn import tree\n",
    "from sklearn.ensemble import RandomForestRegressor\n",
    "\n",
    "tree_model = RandomForestRegressor(max_depth=30, random_state=0)\n",
    "tree_model.fit(X_train,y_train)"
   ]
  },
  {
   "cell_type": "code",
   "execution_count": 204,
   "id": "d236f715",
   "metadata": {},
   "outputs": [],
   "source": [
    "%matplotlib inline\n",
    "import matplotlib.pyplot as plt\n",
    "import time\n"
   ]
  },
  {
   "cell_type": "code",
   "execution_count": 205,
   "id": "1511e80c",
   "metadata": {},
   "outputs": [
    {
     "data": {
      "text/plain": [
       "(5085, 37)"
      ]
     },
     "execution_count": 205,
     "metadata": {},
     "output_type": "execute_result"
    }
   ],
   "source": [
    "X_train.shape"
   ]
  },
  {
   "cell_type": "code",
   "execution_count": 206,
   "id": "d908cb59",
   "metadata": {
    "scrolled": true
   },
   "outputs": [
    {
     "data": {
      "text/plain": [
       "<BarContainer object of 37 artists>"
      ]
     },
     "execution_count": 206,
     "metadata": {},
     "output_type": "execute_result"
    },
    {
     "data": {
      "image/png": "[encoded data removed]",
      "text/plain": [
       "<Figure size 640x480 with 1 Axes>"
      ]
     },
     "metadata": {},
     "output_type": "display_data"
    }
   ],
   "source": [
    "plt.barh(list(X_train.columns), tree_model.feature_importances_)"
   ]
  },
  {
   "cell_type": "code",
   "execution_count": 207,
   "id": "1c8c7f59",
   "metadata": {},
   "outputs": [
    {
     "data": {
      "text/plain": [
       "['property_amenities',\n",
       " 'host_days',\n",
       " 'property_lat',\n",
       " 'property_lon',\n",
       " 'host_verified',\n",
       " 'reviews_last',\n",
       " 'reviews_per_month',\n",
       " 'property_last_updated',\n",
       " 'reviews_first',\n",
       " 'reviews_num',\n",
       " 'booking_availability_365',\n",
       " 'reviews_rating',\n",
       " 'booking_max_nights',\n",
       " 'booking_min_nights',\n",
       " 'booking_availability_90']"
      ]
     },
     "execution_count": 207,
     "metadata": {},
     "output_type": "execute_result"
    }
   ],
   "source": [
    "feature_importance_df=pd.DataFrame(list(X_train.columns), tree_model.feature_importances_).reset_index()\n",
    "feature_importance_df.columns=['score','feature']\n",
    "select=list(feature_importance_df.sort_values(by='score', ascending=False).iloc[:15,:].feature)\n",
    "select"
   ]
  },
  {
   "cell_type": "code",
   "execution_count": 208,
   "id": "94647ad2",
   "metadata": {
    "scrolled": true
   },
   "outputs": [
    {
     "name": "stdout",
     "output_type": "stream",
     "text": [
      "Regression coefficient: 0.8513211919284398\n"
     ]
    }
   ],
   "source": [
    "print(\"Regression coefficient:\",tree_model.score(X_train,y_train))"
   ]
  },
  {
   "cell_type": "code",
   "execution_count": 209,
   "id": "2e550fcd",
   "metadata": {},
   "outputs": [],
   "source": [
    "X_train2=train_df.drop('target',axis=1)\n",
    "y_train2=train_df['target']"
   ]
  },
  {
   "cell_type": "code",
   "execution_count": 217,
   "id": "ad052848",
   "metadata": {
    "scrolled": true
   },
   "outputs": [
    {
     "data": {
      "text/plain": [
       "RandomForestRegressor(max_depth=50, random_state=0)"
      ]
     },
     "execution_count": 217,
     "metadata": {},
     "output_type": "execute_result"
    }
   ],
   "source": [
    "from sklearn.ensemble import RandomForestRegressor\n",
    "regr = RandomForestRegressor(max_depth=50, random_state=0)\n",
    "regr.fit(X_train2[select], y_train2)\n",
    "\n",
    "#regr.fit(X_train, y_train)\n",
    "\n",
    "#regr.predict([[0, 0, 0, 0]]))"
   ]
  },
  {
   "cell_type": "code",
   "execution_count": 218,
   "id": "637ce023",
   "metadata": {},
   "outputs": [],
   "source": [
    "import math\n",
    "import sklearn.metrics"
   ]
  },
  {
   "cell_type": "code",
   "execution_count": 219,
   "id": "3877175e",
   "metadata": {
    "scrolled": false
   },
   "outputs": [
    {
     "name": "stdout",
     "output_type": "stream",
     "text": [
      "21.018663414231344\n"
     ]
    }
   ],
   "source": [
    "mse = sklearn.metrics.mean_squared_error(regr.predict(X_train2[select]), y_train2)\n",
    "print(math.sqrt(mse))"
   ]
  },
  {
   "cell_type": "code",
   "execution_count": 220,
   "id": "ab74a222",
   "metadata": {},
   "outputs": [],
   "source": [
    "X_val=val_df[select]"
   ]
  },
  {
   "cell_type": "code",
   "execution_count": 221,
   "id": "c77cb95a",
   "metadata": {
    "scrolled": false
   },
   "outputs": [
    {
     "name": "stdout",
     "output_type": "stream",
     "text": [
      "46.05772936433269\n"
     ]
    }
   ],
   "source": [
    "mse = sklearn.metrics.mean_squared_error(regr.predict(X_val), y_val)\n",
    "print(math.sqrt(mse))"
   ]
  },
  {
   "cell_type": "code",
   "execution_count": 222,
   "id": "9ac78764",
   "metadata": {
    "scrolled": false
   },
   "outputs": [
    {
     "name": "stdout",
     "output_type": "stream",
     "text": [
      "Regression coefficient: 0.8492471121351259\n"
     ]
    }
   ],
   "source": [
    "print(\"Regression coefficient:\",regr.score(X_train2[select],y_train2))"
   ]
  },
  {
   "cell_type": "code",
   "execution_count": 223,
   "id": "a64506b3",
   "metadata": {
    "scrolled": true
   },
   "outputs": [
    {
     "name": "stdout",
     "output_type": "stream",
     "text": [
      "-0.13575790315288727\n"
     ]
    }
   ],
   "source": [
    "from sklearn.metrics import r2_score\n",
    "\n",
    "coefficient_of_dermination = r2_score(y_val, regr.predict(X_val))\n",
    "print(coefficient_of_dermination)"
   ]
  },
  {
   "cell_type": "code",
   "execution_count": null,
   "id": "832ee639",
   "metadata": {},
   "outputs": [],
   "source": []
  },
  {
   "cell_type": "code",
   "execution_count": null,
   "id": "ced0aea4",
   "metadata": {},
   "outputs": [],
   "source": []
  }
 ],
 "metadata": {
  "kernelspec": {
   "display_name": "Python 3 (ipykernel)",
   "language": "python",
   "name": "python3"
  },
  "language_info": {
   "codemirror_mode": {
    "name": "ipython",
    "version": 3
   },
   "file_extension": ".py",
   "mimetype": "text/x-python",
   "name": "python",
   "nbconvert_exporter": "python",
   "pygments_lexer": "ipython3",
   "version": "3.9.13"
  }
 },
 "nbformat": 4,
 "nbformat_minor": 5
}
