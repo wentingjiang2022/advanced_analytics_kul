{
 "cells": [
  {
   "cell_type": "code",
   "execution_count": null,
   "metadata": {},
   "outputs": [],
   "source": [
    "import os\n",
    "import csv\n",
    "import pandas as pd\n",
    "import json"
   ]
  },
  {
   "cell_type": "code",
   "execution_count": null,
   "metadata": {},
   "outputs": [],
   "source": [
    "path = \"/Users/anhphuong/Documents/KUL/Advanced\\ Analytics\"\n",
    "\n",
    "def is_valid_json(s):\n",
    "    try:\n",
    "        json.loads(s)\n",
    "        return True\n",
    "    except json.JSONDecodeError:\n",
    "        return False\n",
    "\n",
    "\n",
    "# Create a list of file paths for text files\n",
    "text_file_paths = [\n",
    "    os.path.join(root, name)\n",
    "    for root, dirs, files in os.walk(path)\n",
    "    for name in files\n",
    "    if not name.startswith('.')  # ignore hidden files\n",
    "    and not name.endswith(('crc', 'json', 'csv'))  \n",
    "    and not os.path.abspath(name).endswith('_SUCCESS')  # exclude SUCCESS\n",
    "]\n",
    "\n",
    "# Load the contents and append to a list\n",
    "all_contents = [open(f, 'r').read() for f in text_file_paths]\n",
    "\n",
    "# Create a list of dicts\n",
    "dicts = [json.loads(s) for s in all_contents if is_valid_json(s)]\n",
    "\n",
    "# Create dataframe\n",
    "df = pd.DataFrame(dicts)\n",
    "df.drop_duplicates(inplace=True)\n",
    "df.reset_index(drop=True, inplace=True)\n",
    "\n",
    "# Save to csv\n",
    "df.to_csv(\"reviews.csv\")"
   ]
  }
 ],
 "metadata": {
  "language_info": {
   "name": "python"
  },
  "orig_nbformat": 4
 },
 "nbformat": 4,
 "nbformat_minor": 2
}
