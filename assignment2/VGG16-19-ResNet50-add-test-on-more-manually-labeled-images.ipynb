{
 "cells": [
  {
   "cell_type": "code",
   "execution_count": 1,
   "id": "55ce3d47",
   "metadata": {},
   "outputs": [],
   "source": [
    "#pip install reportlab\n",
    "import json\n",
    "import glob\n",
    "import os\n",
    "import numpy as np\n",
    "from PIL import Image\n",
    "import matplotlib.pyplot as plt\n",
    "import itertools\n",
    "from matplotlib.backends.backend_pdf import PdfPages\n",
    "from sklearn.metrics import accuracy_score\n",
    "import seaborn as sns\n",
    "from sklearn.metrics import confusion_matrix"
   ]
  },
  {
   "cell_type": "code",
   "execution_count": null,
   "id": "77c49bf0",
   "metadata": {},
   "outputs": [],
   "source": [
    "with open('dataset.json', 'r') as file:\n",
    "    data = json.load(file)\n",
    "\n",
    "print(data)"
   ]
  },
  {
   "cell_type": "code",
   "execution_count": null,
   "id": "cb04f979",
   "metadata": {},
   "outputs": [],
   "source": [
    "len(data)"
   ]
  },
  {
   "cell_type": "code",
   "execution_count": 4,
   "id": "cc42ac37",
   "metadata": {},
   "outputs": [
    {
     "data": {
      "text/plain": [
       "['2088757', '2182000', '4151606', '4151588', '2224983']"
      ]
     },
     "execution_count": 4,
     "metadata": {},
     "output_type": "execute_result"
    }
   ],
   "source": [
    "# extract images of one restaurant\n",
    "one_restaurant_info=data[0]['more_details']['full_images']\n",
    "one_restaurant_images=[i['image_id'] for i in one_restaurant_info]\n",
    "one_restaurant_images"
   ]
  },
  {
   "cell_type": "code",
   "execution_count": 5,
   "id": "a00b64be",
   "metadata": {},
   "outputs": [],
   "source": [
    "# do this for all restaurants\n",
    "\n",
    "res_image_dic={}\n",
    "for res in data:\n",
    "    res_id=res['identifier']\n",
    "    one_restaurant_info=res['more_details']['full_images']\n",
    "    one_restaurant_images=[i['image_id'] for i in one_restaurant_info]\n",
    "    res_image_dic[res_id]=one_restaurant_images"
   ]
  },
  {
   "cell_type": "code",
   "execution_count": 6,
   "id": "cf0fc34f",
   "metadata": {},
   "outputs": [
    {
     "data": {
      "text/plain": [
       "True"
      ]
     },
     "execution_count": 6,
     "metadata": {},
     "output_type": "execute_result"
    }
   ],
   "source": [
    "# check if restaurant ids are unique\n",
    "len(list(res_image_dic.keys()))== len(set(res_image_dic.keys()))"
   ]
  },
  {
   "cell_type": "code",
   "execution_count": 7,
   "id": "d64fe743",
   "metadata": {},
   "outputs": [],
   "source": [
    "# list of all restaurant images\n",
    "nested_list=list(res_image_dic.values())\n",
    "image_names = list(itertools.chain(*nested_list))\n",
    "#image_names"
   ]
  },
  {
   "cell_type": "code",
   "execution_count": null,
   "id": "4e38ac86",
   "metadata": {
    "scrolled": true
   },
   "outputs": [],
   "source": [
    "# test reading an image\n",
    "folder_path = 'images'\n",
    "image_path=folder_path + '/' + '4151606' + '.jpg'\n",
    "img=Image.open(image_path)\n",
    "img"
   ]
  },
  {
   "cell_type": "code",
   "execution_count": 9,
   "id": "99bf50e4",
   "metadata": {
    "scrolled": false
   },
   "outputs": [],
   "source": [
    "# reading all images in a restaurant setting \n",
    "all_images={}\n",
    "folder_path = 'images'\n",
    "target_size = (256, 256) # need to resize because some images do not have the same shap\n",
    "\n",
    "iteration=0 # read only 100 images for now\n",
    "for name in image_names:\n",
    "    iteration+=1\n",
    "    file_name=name + '.jpg'\n",
    "    image_path = folder_path + '/' + file_name\n",
    "    if iteration <=100:\n",
    "        try:\n",
    "            with Image.open(image_path) as img:\n",
    "                img = img.resize(target_size)\n",
    "                image_array = np.array(img)\n",
    "\n",
    "                all_images[name]=image_array\n",
    "            #print(name)\n",
    "        except:\n",
    "            print(f\"Error opening file '{file_name}', skipping...\")\n",
    "            continue"
   ]
  },
  {
   "cell_type": "code",
   "execution_count": null,
   "id": "1d9c8556",
   "metadata": {
    "scrolled": true
   },
   "outputs": [],
   "source": [
    "# plot one image based on id\n",
    "plt.imshow(all_images['2182000'], cmap='gray')\n",
    "plt.show()"
   ]
  },
  {
   "cell_type": "markdown",
   "id": "cc3b98b6",
   "metadata": {},
   "source": [
    "# use 20 manual labels"
   ]
  },
  {
   "cell_type": "code",
   "execution_count": 11,
   "id": "bc5ba2d5",
   "metadata": {
    "scrolled": true
   },
   "outputs": [],
   "source": [
    "selected_ids=(list(all_images.keys()))\n",
    "label_ids=selected_ids[:20] # should change to random select just in case there is corr\n",
    "no_label_ids=selected_ids[20:]\n",
    "\n",
    "train_image_list=[]\n",
    "for i in label_ids: # show images in order to label them \n",
    "    #plt.imshow(all_images[i], cmap='gray')\n",
    "    #plt.show()\n",
    "    train_image_list.append(all_images[i])\n",
    "    #print(all_images[i].shape) "
   ]
  },
  {
   "cell_type": "code",
   "execution_count": 12,
   "id": "17f419c7",
   "metadata": {
    "scrolled": true
   },
   "outputs": [],
   "source": [
    "test_image_list=[]\n",
    "for i in no_label_ids: \n",
    "    test_image_list.append(all_images[i])\n",
    "   # print(all_images[i].shape) "
   ]
  },
  {
   "cell_type": "code",
   "execution_count": 13,
   "id": "17084784",
   "metadata": {},
   "outputs": [
    {
     "data": {
      "text/plain": [
       "20"
      ]
     },
     "execution_count": 13,
     "metadata": {},
     "output_type": "execute_result"
    }
   ],
   "source": [
    "# use 0 for food, 1 for interiror\n",
    "label_ids = [1, 0, 1, 1, 1, 0, 1, 0, 0, 0, 0, 1, 1, 1, 0, 0, 1, 1, 1, 1]\n",
    "len(label_ids)"
   ]
  },
  {
   "cell_type": "code",
   "execution_count": 14,
   "id": "a0771356",
   "metadata": {
    "scrolled": false
   },
   "outputs": [
    {
     "data": {
      "text/plain": [
       "12"
      ]
     },
     "execution_count": 14,
     "metadata": {},
     "output_type": "execute_result"
    }
   ],
   "source": [
    "sum(label_ids) # there is a slight imbalance"
   ]
  },
  {
   "cell_type": "code",
   "execution_count": 15,
   "id": "bcec68d3",
   "metadata": {},
   "outputs": [
    {
     "data": {
      "text/plain": [
       "(20, 256, 256, 3)"
      ]
     },
     "execution_count": 15,
     "metadata": {},
     "output_type": "execute_result"
    }
   ],
   "source": [
    "train=np.array(train_image_list)\n",
    "train.shape"
   ]
  },
  {
   "cell_type": "code",
   "execution_count": 16,
   "id": "4f5cb91a",
   "metadata": {
    "scrolled": true
   },
   "outputs": [
    {
     "data": {
      "text/plain": [
       "(80, 256, 256, 3)"
      ]
     },
     "execution_count": 16,
     "metadata": {},
     "output_type": "execute_result"
    }
   ],
   "source": [
    "test=np.array(test_image_list)\n",
    "test.shape"
   ]
  },
  {
   "cell_type": "code",
   "execution_count": null,
   "id": "21618657",
   "metadata": {},
   "outputs": [],
   "source": [
    "import numpy as np\n",
    "from keras.models import Sequential\n",
    "from keras.layers import Dense, Flatten\n",
    "from keras.applications import VGG16\n",
    "\n",
    "# Load the pre-trained model\n",
    "base_model = VGG16(weights='imagenet', include_top=False, input_shape=(256, 256, 3))\n",
    "\n",
    "# Freeze pre-trained layers (compare with no freezing)\n",
    "for layer in base_model.layers:\n",
    "    layer.trainable = False\n",
    "\n",
    "# Define your own classification layers\n",
    "model = Sequential()\n",
    "model.add(base_model)\n",
    "model.add(Flatten())\n",
    "model.add(Dense(128, activation='relu'))\n",
    "model.add(Dense(1, activation='sigmoid'))\n",
    "\n",
    "# Compile the model\n",
    "model.compile(loss='binary_crossentropy', optimizer='adam', metrics=['accuracy'])"
   ]
  },
  {
   "cell_type": "code",
   "execution_count": 43,
   "id": "2dc1248b",
   "metadata": {},
   "outputs": [
    {
     "name": "stdout",
     "output_type": "stream",
     "text": [
      "Downloading data from https://storage.googleapis.com/tensorflow/keras-applications/vgg19/vgg19_weights_tf_dim_ordering_tf_kernels_notop.h5\n",
      "80134624/80134624 [==============================] - 6s 0us/step\n"
     ]
    }
   ],
   "source": [
    "import numpy as np\n",
    "from keras.models import Sequential\n",
    "from keras.layers import Dense, Flatten\n",
    "from keras.applications import VGG19\n",
    "\n",
    "# Load the pre-trained model\n",
    "base_model = VGG19(weights='imagenet', include_top=False, input_shape=(256, 256, 3))\n",
    "\n",
    "# Freeze pre-trained layers (compare with no freezing)\n",
    "for layer in base_model.layers:\n",
    "    layer.trainable = False\n",
    "\n",
    "# Define your own classification layers\n",
    "model = Sequential()\n",
    "model.add(base_model)\n",
    "model.add(Flatten())\n",
    "model.add(Dense(128, activation='relu'))\n",
    "model.add(Dense(1, activation='sigmoid'))\n",
    "\n",
    "# Compile the model\n",
    "model.compile(loss='binary_crossentropy', optimizer='adam', metrics=['accuracy'])"
   ]
  },
  {
   "cell_type": "code",
   "execution_count": 72,
   "id": "ac72dbdf",
   "metadata": {},
   "outputs": [],
   "source": [
    "import numpy as np\n",
    "from keras.models import Sequential\n",
    "from keras.layers import Dense, Flatten\n",
    "from tensorflow.keras.applications.resnet50 import ResNet50\n",
    "\n",
    "# Load the pre-trained model\n",
    "base_model = ResNet50(weights='imagenet', include_top=False, input_shape=(256, 256, 3))\n",
    "\n",
    "# Freeze pre-trained layers (compare with no freezing)\n",
    "for layer in base_model.layers:\n",
    "    layer.trainable = False\n",
    "\n",
    "# Define your own classification layers\n",
    "model = Sequential()\n",
    "model.add(base_model)\n",
    "model.add(Flatten())\n",
    "model.add(Dense(128, activation='relu'))\n",
    "model.add(Dense(1, activation='sigmoid'))\n",
    "\n",
    "# Compile the model\n",
    "model.compile(loss='binary_crossentropy', optimizer='adam', metrics=['accuracy'])"
   ]
  },
  {
   "cell_type": "code",
   "execution_count": 73,
   "id": "51618ae1",
   "metadata": {
    "scrolled": true
   },
   "outputs": [
    {
     "name": "stdout",
     "output_type": "stream",
     "text": [
      "Model: \"sequential_5\"\n",
      "_________________________________________________________________\n",
      " Layer (type)                Output Shape              Param #   \n",
      "=================================================================\n",
      " resnet50 (Functional)       (None, 8, 8, 2048)        23587712  \n",
      "                                                                 \n",
      " flatten_5 (Flatten)         (None, 131072)            0         \n",
      "                                                                 \n",
      " dense_10 (Dense)            (None, 128)               16777344  \n",
      "                                                                 \n",
      " dense_11 (Dense)            (None, 1)                 129       \n",
      "                                                                 \n",
      "=================================================================\n",
      "Total params: 40,365,185\n",
      "Trainable params: 16,777,473\n",
      "Non-trainable params: 23,587,712\n",
      "_________________________________________________________________\n"
     ]
    }
   ],
   "source": [
    "model.summary()"
   ]
  },
  {
   "cell_type": "code",
   "execution_count": 74,
   "id": "fa05a22c",
   "metadata": {
    "scrolled": true
   },
   "outputs": [
    {
     "name": "stdout",
     "output_type": "stream",
     "text": [
      "Epoch 1/10\n",
      "1/1 [==============================] - 4s 4s/step - loss: 0.5309 - accuracy: 0.7000 - val_loss: 1.8314e-04 - val_accuracy: 1.0000\n",
      "Epoch 2/10\n",
      "1/1 [==============================] - 1s 1s/step - loss: 0.0000e+00 - accuracy: 1.0000 - val_loss: 3.8523e-05 - val_accuracy: 1.0000\n",
      "Epoch 3/10\n",
      "1/1 [==============================] - 1s 1s/step - loss: 0.0000e+00 - accuracy: 1.0000 - val_loss: 8.7384e-06 - val_accuracy: 1.0000\n",
      "Epoch 4/10\n",
      "1/1 [==============================] - 1s 1s/step - loss: 0.0000e+00 - accuracy: 1.0000 - val_loss: 2.7996e-06 - val_accuracy: 1.0000\n",
      "Epoch 5/10\n",
      "1/1 [==============================] - 1s 1s/step - loss: 0.0000e+00 - accuracy: 1.0000 - val_loss: 1.0831e-06 - val_accuracy: 1.0000\n",
      "Epoch 6/10\n",
      "1/1 [==============================] - 1s 1s/step - loss: 0.0000e+00 - accuracy: 1.0000 - val_loss: 4.7654e-07 - val_accuracy: 1.0000\n",
      "Epoch 7/10\n",
      "1/1 [==============================] - 1s 1s/step - loss: 0.0000e+00 - accuracy: 1.0000 - val_loss: 2.3222e-07 - val_accuracy: 1.0000\n",
      "Epoch 8/10\n",
      "1/1 [==============================] - 1s 1s/step - loss: 0.0000e+00 - accuracy: 1.0000 - val_loss: 1.2304e-07 - val_accuracy: 1.0000\n",
      "Epoch 9/10\n",
      "1/1 [==============================] - 1s 1s/step - loss: 0.0000e+00 - accuracy: 1.0000 - val_loss: 6.9932e-08 - val_accuracy: 1.0000\n",
      "Epoch 10/10\n",
      "1/1 [==============================] - 1s 1s/step - loss: 0.0000e+00 - accuracy: 1.0000 - val_loss: 4.2196e-08 - val_accuracy: 1.0000\n",
      "1/1 [==============================] - 1s 643ms/step - loss: 4.2196e-08 - accuracy: 1.0000\n",
      "Test accuracy: 1.0\n"
     ]
    }
   ],
   "source": [
    "# Load your own training and test data (new result if freeze previous layers)\n",
    "train_images = train[:10]\n",
    "train_labels = np.array(label_ids[:10])\n",
    "test_images = train[10:]\n",
    "test_labels = np.array(label_ids[10:])\n",
    "\n",
    "# Train the model\n",
    "model.fit(train_images, train_labels, epochs=10, batch_size=32, validation_data=(test_images, test_labels))\n",
    "\n",
    "# Evaluate the model on test set\n",
    "score = model.evaluate(test_images, test_labels)\n",
    "print('Test accuracy:', score[1])"
   ]
  },
  {
   "cell_type": "code",
   "execution_count": 75,
   "id": "d41cc8d1",
   "metadata": {},
   "outputs": [],
   "source": [
    "# look at the test images without labels, check if predicted correctly\n",
    "new_images = test[:40]"
   ]
  },
  {
   "cell_type": "code",
   "execution_count": 76,
   "id": "995b9ea4",
   "metadata": {
    "scrolled": true
   },
   "outputs": [
    {
     "name": "stdout",
     "output_type": "stream",
     "text": [
      "2/2 [==============================] - 3s 525ms/step\n"
     ]
    }
   ],
   "source": [
    "# Predict new images with the model\n",
    "model_predictions=model.predict(new_images)\n",
    "# set the threshold\n",
    "threshold = 0.5\n",
    "# convert predicted probabilities to labels 0 and 1\n",
    "predicted_labels = (model_predictions > threshold).astype(int)\n",
    "# print the predicted labels"
   ]
  },
  {
   "cell_type": "code",
   "execution_count": 77,
   "id": "289356e1",
   "metadata": {},
   "outputs": [],
   "source": [
    "convert_label_dict={0: 'food', 1: 'exterior'}"
   ]
  },
  {
   "cell_type": "code",
   "execution_count": 78,
   "id": "4aa2b5ca",
   "metadata": {
    "scrolled": true
   },
   "outputs": [],
   "source": [
    " # show images in order to check prediction \n",
    "#for ind, item in enumerate(new_images):\n",
    "#    label=predicted_labels[ind][0]\n",
    "#    print('image ' + str(ind) + ' label:' + (convert_label_dict[label]))\n",
    "#    plt.imshow(item, cmap='gray')\n",
    "#    plt.show()"
   ]
  },
  {
   "cell_type": "code",
   "execution_count": 79,
   "id": "cd0d757f",
   "metadata": {},
   "outputs": [],
   "source": [
    "def save_image(filename):\n",
    "    p = PdfPages(filename)\n",
    "    for ind, item in enumerate(new_images): # show images in order to check prediction \n",
    "        label=predicted_labels[ind][0]\n",
    "        fig= plt.figure()\n",
    "        plt.imshow(item, cmap='gray')\n",
    "        plt.title('image ' + str(ind) + ' label:' + (convert_label_dict[label]))\n",
    "        fig.savefig(p, format='pdf') \n",
    "    # close the object\n",
    "    p.close()  "
   ]
  },
  {
   "cell_type": "code",
   "execution_count": 80,
   "id": "aa7d74a0",
   "metadata": {
    "scrolled": false
   },
   "outputs": [],
   "source": [
    "# name Pdf file\n",
    "# filename = \"multi_plot_image.pdf\"  \n",
    "# save_image(filename)  "
   ]
  },
  {
   "cell_type": "markdown",
   "id": "d9a75cc7",
   "metadata": {},
   "source": [
    "# use more manual labels"
   ]
  },
  {
   "cell_type": "code",
   "execution_count": null,
   "id": "75ed79f6",
   "metadata": {},
   "outputs": [],
   "source": [
    "# path to the folder containing the JSON files\n",
    "folder_path = 'images_labelled/'\n",
    "# get a list of all the files in the folder\n",
    "file_list = os.listdir(folder_path)\n",
    "\n",
    "label_dict={}\n",
    "# iterate over the files\n",
    "for file_name in file_list:\n",
    "    # check if the file is a JSON file\n",
    "    if file_name.endswith('.json'):\n",
    "        # construct the full path to the file\n",
    "        file_path = os.path.join(folder_path, file_name)\n",
    "        # open the file and read its contents\n",
    "        with open(file_path, 'r') as file:\n",
    "            json_data = json.load(file)        \n",
    "        txt=json_data['imagePath']\n",
    "        image_id=txt.split(\".\")[0]\n",
    "        label_dict[image_id]=int(json_data['flags']['restaurant'])\n",
    "        print(json_data)"
   ]
  },
  {
   "cell_type": "code",
   "execution_count": 82,
   "id": "58dbac0c",
   "metadata": {},
   "outputs": [],
   "source": [
    "# just use the previous model to predict and see the outcome\n",
    "\n",
    "image_names_test=list(label_dict.keys())\n",
    "image_labels_test=list(label_dict.values())"
   ]
  },
  {
   "cell_type": "code",
   "execution_count": 83,
   "id": "edbb05c3",
   "metadata": {},
   "outputs": [],
   "source": [
    "# reading all images in a restaurant setting \n",
    "#all_test_images={}\n",
    "folder_path = 'images'\n",
    "target_size = (256, 256) # need to resize because some images do not have the same shap\n",
    "\n",
    "# read all\n",
    "test_label=[]\n",
    "new_test_image_list= []\n",
    "for ind,name in enumerate(image_names_test):\n",
    "    file_name=name + '.jpg'\n",
    "    image_path = folder_path + '/' + file_name\n",
    "    try:\n",
    "        with Image.open(image_path) as img:\n",
    "            img = img.resize(target_size)\n",
    "            image_array = np.array(img)\n",
    "            #all_test_images[name]=image_array       \n",
    "            new_test_image_list.append(image_array)\n",
    "            test_label.append(image_labels_test[ind])\n",
    "            #print(name)\n",
    "    except:\n",
    "        print(f\"Error opening file '{file_name}', skipping...\")\n",
    "        continue"
   ]
  },
  {
   "cell_type": "code",
   "execution_count": 84,
   "id": "9e9f40d2",
   "metadata": {
    "scrolled": false
   },
   "outputs": [
    {
     "name": "stdout",
     "output_type": "stream",
     "text": [
      "read 535 images\n"
     ]
    }
   ],
   "source": [
    "print('read ' + str(len(new_test_image_list)) + ' images')"
   ]
  },
  {
   "cell_type": "code",
   "execution_count": 85,
   "id": "c1532a57",
   "metadata": {},
   "outputs": [
    {
     "data": {
      "text/plain": [
       "0.33457943925233646"
      ]
     },
     "execution_count": 85,
     "metadata": {},
     "output_type": "execute_result"
    }
   ],
   "source": [
    "sum(test_label)/len(test_label)\n",
    "# there is a slight issue of class imbalance, accuracy is not be the best metric"
   ]
  },
  {
   "cell_type": "code",
   "execution_count": 86,
   "id": "07f12a8e",
   "metadata": {},
   "outputs": [
    {
     "data": {
      "text/plain": [
       "(535, 256, 256, 3)"
      ]
     },
     "execution_count": 86,
     "metadata": {},
     "output_type": "execute_result"
    }
   ],
   "source": [
    "new_test=np.array(new_test_image_list)\n",
    "new_test.shape"
   ]
  },
  {
   "cell_type": "code",
   "execution_count": 87,
   "id": "751c2dc7",
   "metadata": {},
   "outputs": [
    {
     "name": "stdout",
     "output_type": "stream",
     "text": [
      "17/17 [==============================] - 34s 2s/step\n"
     ]
    }
   ],
   "source": [
    "model_predictions_test=model.predict(new_test)\n",
    "threshold = 0.5\n",
    "predicted_labels_test = (model_predictions_test > threshold).astype(int)"
   ]
  },
  {
   "cell_type": "code",
   "execution_count": 88,
   "id": "1233aba8",
   "metadata": {},
   "outputs": [
    {
     "name": "stdout",
     "output_type": "stream",
     "text": [
      "0.9738317757009346\n"
     ]
    }
   ],
   "source": [
    "accuracy = accuracy_score(test_label, predicted_labels_test)\n",
    "print(accuracy) "
   ]
  },
  {
   "cell_type": "code",
   "execution_count": 89,
   "id": "96b9cc0d",
   "metadata": {
    "scrolled": true
   },
   "outputs": [
    {
     "data": {
      "image/png": "[encoded data removed]",
      "text/plain": [
       "<Figure size 640x480 with 2 Axes>"
      ]
     },
     "metadata": {},
     "output_type": "display_data"
    }
   ],
   "source": [
    "# Compute confusion matrix\n",
    "cm = confusion_matrix(test_label, predicted_labels_test)\n",
    "\n",
    "# Plot heatmap\n",
    "sns.heatmap(cm, annot=True, cmap='Blues')\n",
    "plt.xlabel('Predicted labels')\n",
    "plt.ylabel('True labels')\n",
    "plt.show()"
   ]
  },
  {
   "cell_type": "code",
   "execution_count": 90,
   "id": "9b970461",
   "metadata": {},
   "outputs": [],
   "source": [
    "#find misclassified images\n",
    "def find_mismatch_pos(list1, list2):\n",
    "    all_pos=[]\n",
    "    for i in range(len(list1)):\n",
    "        if list1[i] != list2[i]:\n",
    "            all_pos.append(i)\n",
    "    return all_pos # if no mismatch found\n",
    "\n",
    "misclassified = find_mismatch_pos(test_label, predicted_labels_test)"
   ]
  },
  {
   "cell_type": "code",
   "execution_count": 91,
   "id": "8301fc89",
   "metadata": {},
   "outputs": [],
   "source": [
    "convert_label_dict={0: 'food', 1: 'exterior'}"
   ]
  },
  {
   "cell_type": "code",
   "execution_count": null,
   "id": "15a246d8",
   "metadata": {
    "scrolled": true
   },
   "outputs": [],
   "source": [
    "# almost all (but one) classify exterior as food\n",
    "for ind, item in enumerate(misclassified):\n",
    "    predict_label=predicted_labels_test[item][0]\n",
    "    actual_label=test_label[item]\n",
    "    print('image ' + str(ind) + ' actual label:' + (convert_label_dict[actual_label]))\n",
    "    print('image ' + str(ind) + ' predict label:' + (convert_label_dict[predict_label]))\n",
    "    plt.imshow(new_test[item], cmap='gray')\n",
    "    plt.show()"
   ]
  },
  {
   "cell_type": "code",
   "execution_count": 93,
   "id": "7b277929",
   "metadata": {},
   "outputs": [],
   "source": [
    "# to-do: add interpretability technique to explain the model"
   ]
  }
 ],
 "metadata": {
  "kernelspec": {
   "display_name": "Python 3 (ipykernel)",
   "language": "python",
   "name": "python3"
  },
  "language_info": {
   "codemirror_mode": {
    "name": "ipython",
    "version": 3
   },
   "file_extension": ".py",
   "mimetype": "text/x-python",
   "name": "python",
   "nbconvert_exporter": "python",
   "pygments_lexer": "ipython3",
   "version": "3.9.13"
  }
 },
 "nbformat": 4,
 "nbformat_minor": 5
}
