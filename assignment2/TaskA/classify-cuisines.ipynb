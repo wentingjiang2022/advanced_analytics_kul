{
 "cells": [
  {
   "cell_type": "code",
   "execution_count": null,
   "id": "55ce3d47",
   "metadata": {},
   "outputs": [],
   "source": [
    "#pip install reportlab\n",
    "import json\n",
    "import glob\n",
    "import os\n",
    "import numpy as np\n",
    "from PIL import Image\n",
    "import matplotlib.pyplot as plt\n",
    "import itertools\n",
    "from matplotlib.backends.backend_pdf import PdfPages\n",
    "from sklearn.metrics import accuracy_score\n",
    "import seaborn as sns\n",
    "from sklearn.metrics import confusion_matrix\n",
    "import pandas as pd\n",
    "import random"
   ]
  },
  {
   "cell_type": "code",
   "execution_count": null,
   "id": "77c49bf0",
   "metadata": {},
   "outputs": [],
   "source": [
    "with open('dataset.json', 'r') as file:\n",
    "    data = json.load(file)\n",
    "\n",
    "print(data)"
   ]
  },
  {
   "cell_type": "code",
   "execution_count": null,
   "id": "cb04f979",
   "metadata": {},
   "outputs": [],
   "source": [
    "len(data)"
   ]
  },
  {
   "cell_type": "code",
   "execution_count": null,
   "id": "0bc0f777",
   "metadata": {},
   "outputs": [],
   "source": [
    "# look at json\n",
    "data[0]['cuisines'][0]['label']"
   ]
  },
  {
   "cell_type": "code",
   "execution_count": null,
   "id": "cc42ac37",
   "metadata": {},
   "outputs": [],
   "source": [
    "# extract images of one restaurant\n",
    "one_restaurant_info=data[0]['more_details']['full_images']\n",
    "one_restaurant_images=[i['image_id'] for i in one_restaurant_info]\n",
    "one_restaurant_images"
   ]
  },
  {
   "cell_type": "code",
   "execution_count": null,
   "id": "a00b64be",
   "metadata": {},
   "outputs": [],
   "source": [
    "# do this for all restaurants\n",
    "\n",
    "res_image_dic={}\n",
    "cuisine_dic={}\n",
    "for res in data:\n",
    "    # use cuisine type as restaurant \n",
    "    res_id= res['identifier']\n",
    "    one_restaurant_info=res['more_details']['full_images']\n",
    "    one_restaurant_images=[i['image_id'] for i in one_restaurant_info]\n",
    "    if len(one_restaurant_images)!=0:\n",
    "\n",
    "    # select randomly 1 images per restaurant, otherwise too many images\n",
    "        selected=one_restaurant_images[-1]\n",
    "    res_image_dic[res_id]=selected\n",
    "    cuisine_dic[res_id] = res['cuisines'][0]['label']#"
   ]
  },
  {
   "cell_type": "code",
   "execution_count": null,
   "id": "d94cbd04",
   "metadata": {},
   "outputs": [],
   "source": [
    "df_cuisine=pd.DataFrame.from_dict(cuisine_dic, orient='index').reset_index()\n",
    "df_cuisine.columns=['res_id', 'cuisine']\n",
    "df_cuisine.groupby('cuisine').count().sort_values(by='res_id',ascending=False).iloc[:22]\n",
    "# get the country names from top 20"
   ]
  },
  {
   "cell_type": "code",
   "execution_count": null,
   "id": "e368d2ce",
   "metadata": {
    "scrolled": true
   },
   "outputs": [],
   "source": [
    "top_22 = list(df_cuisine.groupby('cuisine').count().sort_values(by='res_id',ascending=False).iloc[:22].reset_index()['cuisine'])\n",
    "top_22 # however, this will give us the top pictures in terms of both food and interior!\n",
    "# change to top 22 because I want to include amazing indian food :)\n"
   ]
  },
  {
   "cell_type": "code",
   "execution_count": null,
   "id": "782120f3",
   "metadata": {},
   "outputs": [],
   "source": [
    "country=[ # 8 cuisines\n",
    " 'Japanese',\n",
    " 'Italian',\n",
    " 'French',\n",
    " 'Mediterranean Cuisine',\n",
    " 'Modern British',\n",
    "# 'Modern French',\n",
    "# 'Cantonese',\n",
    " 'Thai',\n",
    " 'Chinese', \n",
    "# 'Classic French', \n",
    "    'Indian']"
   ]
  },
  {
   "cell_type": "code",
   "execution_count": null,
   "id": "6f28613b",
   "metadata": {},
   "outputs": [],
   "source": [
    "extract_relevant_id = list(df_cuisine[df_cuisine['cuisine'].isin(country)]['res_id'])"
   ]
  },
  {
   "cell_type": "code",
   "execution_count": null,
   "id": "60be67a7",
   "metadata": {},
   "outputs": [],
   "source": [
    "df_cuisine_selected"
   ]
  },
  {
   "cell_type": "code",
   "execution_count": null,
   "id": "12266ae4",
   "metadata": {},
   "outputs": [],
   "source": [
    "df_cuisine_selected=df_cuisine[df_cuisine['res_id'].isin(extract_relevant_id)]"
   ]
  },
  {
   "cell_type": "code",
   "execution_count": null,
   "id": "746d6fe1",
   "metadata": {},
   "outputs": [],
   "source": [
    "df_cuisine_selected_20=pd.DataFrame()\n",
    "for i in country:\n",
    "    selected=df_cuisine_selected[df_cuisine_selected['cuisine']==i].iloc[:20,:]\n",
    "    df_cuisine_selected_20=pd.concat([df_cuisine_selected_20,selected],axis=0)\n",
    "    \n",
    "extract_relevant_id_filter=list(df_cuisine_selected_20.res_id)"
   ]
  },
  {
   "cell_type": "code",
   "execution_count": null,
   "id": "be6a8fc9",
   "metadata": {},
   "outputs": [],
   "source": [
    "res_image_dic=dict((k, res_image_dic[k]) for k in extract_relevant_id_filter if k in res_image_dic)"
   ]
  },
  {
   "cell_type": "code",
   "execution_count": null,
   "id": "d64fe743",
   "metadata": {},
   "outputs": [],
   "source": [
    "# list of all restaurant images\n",
    "nested_list=list(res_image_dic.values())\n",
    "image_names = nested_list.copy()\n",
    "#image_names"
   ]
  },
  {
   "cell_type": "code",
   "execution_count": null,
   "id": "7f631807",
   "metadata": {},
   "outputs": [],
   "source": [
    "len(image_names) # okey number of images"
   ]
  },
  {
   "cell_type": "code",
   "execution_count": null,
   "id": "4e38ac86",
   "metadata": {
    "scrolled": true
   },
   "outputs": [],
   "source": [
    "# test reading an image\n",
    "folder_path = 'images'\n",
    "image_path=folder_path + '/' + image_names[0] + '.jpg'\n",
    "img=Image.open(image_path)\n",
    "img"
   ]
  },
  {
   "cell_type": "code",
   "execution_count": null,
   "id": "c66b195b",
   "metadata": {
    "scrolled": true
   },
   "outputs": [],
   "source": [
    "# reading all images in a restaurant setting  (for relevant cuisines)\n",
    "all_images={}\n",
    "folder_path = 'images'\n",
    "target_size = (256, 256) # need to resize because some images do not have the same shap\n",
    "\n",
    "for name in image_names:\n",
    "    file_name=name + '.jpg'\n",
    "    image_path = folder_path + '/' + file_name\n",
    "    try:\n",
    "        with Image.open(image_path) as img:\n",
    "            img = img.resize(target_size)\n",
    "            image_array = np.array(img)\n",
    "\n",
    "            all_images[name]=image_array\n",
    "            #print(name)\n",
    "    except:\n",
    "        print(f\"Error opening file '{file_name}', skipping...\")\n",
    "        continue"
   ]
  },
  {
   "cell_type": "code",
   "execution_count": null,
   "id": "4731aaef",
   "metadata": {
    "scrolled": true
   },
   "outputs": [],
   "source": [
    "test_image_list=[]\n",
    "\n",
    "test_image_names=[]\n",
    "for i in image_names: \n",
    "    #plt.imshow(all_images[i], cmap='gray')\n",
    "    #plt.show()\n",
    "    if all_images[i].shape == (256, 256, 3):\n",
    "        test_image_list.append(all_images[i])\n",
    "        test_image_names.append(i)\n",
    "    #print(all_images[i].shape) "
   ]
  },
  {
   "cell_type": "code",
   "execution_count": null,
   "id": "971a277d",
   "metadata": {
    "scrolled": false
   },
   "outputs": [],
   "source": [
    "test=np.array(test_image_list)\n",
    "test.shape"
   ]
  },
  {
   "cell_type": "markdown",
   "id": "4636f971",
   "metadata": {},
   "source": [
    "# Filter only food images using our model"
   ]
  },
  {
   "cell_type": "code",
   "execution_count": null,
   "id": "9deceea4",
   "metadata": {
    "scrolled": true
   },
   "outputs": [],
   "source": [
    "import keras"
   ]
  },
  {
   "cell_type": "code",
   "execution_count": null,
   "id": "989d04c2",
   "metadata": {
    "scrolled": true
   },
   "outputs": [],
   "source": [
    "food_interior_classifier = keras.models.load_model(\"food_interior_classifier.h5\")\n",
    "food_interior_classifier"
   ]
  },
  {
   "cell_type": "code",
   "execution_count": null,
   "id": "6784b4ad",
   "metadata": {},
   "outputs": [],
   "source": [
    "# Predict new images with the model\n",
    "model_predictions=food_interior_classifier.predict(test)\n",
    "# set the threshold\n",
    "threshold = 0.1 # adjust this threshold to make sure what we predict as food is really food\n",
    "# convert predicted probabilities to labels 0 and 1\n",
    "predicted_labels = (model_predictions > threshold).astype(int)\n",
    "# print the predicted labels"
   ]
  },
  {
   "cell_type": "code",
   "execution_count": null,
   "id": "5f6a4c31",
   "metadata": {},
   "outputs": [],
   "source": [
    "# need to find a better threshold, many misclassifications:\n",
    "# https://machinelearningmastery.com/threshold-moving-for-imbalanced-classification/"
   ]
  },
  {
   "cell_type": "code",
   "execution_count": null,
   "id": "a64cb9c7",
   "metadata": {},
   "outputs": [],
   "source": [
    "# adddress class imbalance, we might want to query more images from less prevalent cuisines"
   ]
  },
  {
   "cell_type": "code",
   "execution_count": null,
   "id": "19792842",
   "metadata": {},
   "outputs": [],
   "source": [
    "label_dict={0: 'food', 1: 'exterior'}\n",
    "predicted=[]\n",
    "\n",
    "food_only=[]\n",
    "food_only_id=[]\n",
    "for ind, item in enumerate(test): # show images in order to check prediction \n",
    "    label=predicted_labels[ind][0]\n",
    "    predicted.append(label)\n",
    "    if label==0:\n",
    "        #print(label)\n",
    "        food_only.append(item)\n",
    "        food_only_id.append(test_image_names[ind])\n",
    "    #print('image ' + str(ind) + ' label:' + (label_dict[label]))\n",
    "    #plt.imshow(item, cmap='gray')\n",
    "    #plt.show()"
   ]
  },
  {
   "cell_type": "code",
   "execution_count": null,
   "id": "c996428f",
   "metadata": {
    "scrolled": true
   },
   "outputs": [],
   "source": [
    "plt.imshow(food_only[-1], cmap='gray')\n",
    "plt.show()"
   ]
  },
  {
   "cell_type": "code",
   "execution_count": null,
   "id": "96f5cee2",
   "metadata": {
    "scrolled": true
   },
   "outputs": [],
   "source": [
    "round(1- sum(predicted)/len(predicted),2)\n",
    "# percent predicted as food images"
   ]
  },
  {
   "cell_type": "code",
   "execution_count": null,
   "id": "f49ec440",
   "metadata": {},
   "outputs": [],
   "source": [
    "len(predicted)"
   ]
  },
  {
   "cell_type": "code",
   "execution_count": null,
   "id": "8b44957b",
   "metadata": {},
   "outputs": [],
   "source": [
    "len(food_only)"
   ]
  },
  {
   "cell_type": "code",
   "execution_count": null,
   "id": "15079a77",
   "metadata": {},
   "outputs": [],
   "source": [
    "def save_image(filename):\n",
    "    p = PdfPages(filename)\n",
    "    for ind, item in enumerate(food_only): # show images in order to check prediction \n",
    "        fig= plt.figure()\n",
    "        plt.imshow(item, cmap='gray')\n",
    "        fig.savefig(p, format='pdf') \n",
    "        plt.title(ind)\n",
    "    # close the object\n",
    "    p.close()  "
   ]
  },
  {
   "cell_type": "code",
   "execution_count": null,
   "id": "632801f9",
   "metadata": {},
   "outputs": [],
   "source": [
    "filename = \"cuisine_food_predicted.pdf\"  \n",
    "save_image(filename) "
   ]
  },
  {
   "cell_type": "code",
   "execution_count": null,
   "id": "35904b80",
   "metadata": {
    "scrolled": true
   },
   "outputs": [],
   "source": [
    "#mannually check wrong classification (classified food as exterior)\n",
    "exterior_manual=[6, 18,22,27,29,32,35,38,42,49,50,57,60,61,66,71,79,80,82,83,89,92,99,118]\n",
    "real_food_index=[i for i in list(range(len(food_only))) if i not in exterior_manual]\n",
    "len(real_food_index)"
   ]
  },
  {
   "cell_type": "code",
   "execution_count": null,
   "id": "3119ecd8",
   "metadata": {
    "scrolled": true
   },
   "outputs": [],
   "source": [
    "real_food_image=[food_only[i] for i in real_food_index]\n",
    "real_food_id=[food_only_id[i] for i in real_food_index]\n",
    "for ind, item in enumerate(real_food_image): # show images in order to check prediction \n",
    "    plt.imshow(item, cmap='gray')\n",
    "    plt.show()"
   ]
  },
  {
   "cell_type": "code",
   "execution_count": null,
   "id": "357b2839",
   "metadata": {
    "scrolled": true
   },
   "outputs": [],
   "source": [
    "final_res=dict((k, res_image_dic[k]) for k in extract_relevant_id_filter if res_image_dic[k] in real_food_id)\n",
    "final_res_list=list(final_res.keys())\n",
    "\n",
    "df_cuisine_selected[df_cuisine_selected['res_id'].isin(final_res_list)].groupby('cuisine').count()"
   ]
  },
  {
   "cell_type": "code",
   "execution_count": null,
   "id": "17c8c39a",
   "metadata": {},
   "outputs": [],
   "source": [
    "final_labels=list(df_cuisine_selected[df_cuisine_selected['res_id'].isin(final_res_list)]['cuisine'])\n",
    "len(final_labels)"
   ]
  },
  {
   "cell_type": "code",
   "execution_count": null,
   "id": "d3c5a2f3",
   "metadata": {
    "scrolled": true
   },
   "outputs": [],
   "source": [
    "len(real_food_image)"
   ]
  },
  {
   "cell_type": "code",
   "execution_count": null,
   "id": "b74dd604",
   "metadata": {},
   "outputs": [],
   "source": [
    "class_cat=pd.DataFrame(final_labels)\n",
    "class_cat.columns=['label']\n",
    "dummies = pd.get_dummies(class_cat.label)\n",
    "dummies.shape"
   ]
  },
  {
   "cell_type": "markdown",
   "id": "80d4660c",
   "metadata": {},
   "source": [
    "# Modelling"
   ]
  },
  {
   "cell_type": "code",
   "execution_count": null,
   "id": "4596be69",
   "metadata": {},
   "outputs": [],
   "source": [
    "X = np.array(real_food_image)\n",
    "y = np.array(dummies)"
   ]
  },
  {
   "cell_type": "code",
   "execution_count": null,
   "id": "b2d6ee10",
   "metadata": {},
   "outputs": [],
   "source": [
    "from sklearn.model_selection import train_test_split\n",
    "\n",
    "X_train, X_test, y_train, y_test = train_test_split(\n",
    "    X, y, test_size=0.33, stratify=y, random_state=42)"
   ]
  },
  {
   "cell_type": "code",
   "execution_count": null,
   "id": "3a8b2f72",
   "metadata": {},
   "outputs": [],
   "source": [
    "import numpy as np\n",
    "from keras.models import Sequential\n",
    "from keras.layers import Dense, Flatten\n",
    "from keras.applications import VGG16\n",
    "\n",
    "# Load the pre-trained model\n",
    "base_model = VGG16(weights='imagenet', include_top=False, input_shape=(256, 256, 3))\n",
    "\n",
    "# Freeze pre-trained layers (compare with no freezing)\n",
    "for layer in base_model.layers:\n",
    "    layer.trainable = False\n",
    "\n",
    "# Define your own classification layers\n",
    "model = Sequential()\n",
    "model.add(base_model)\n",
    "model.add(Flatten())\n",
    "model.add(Dense(128, activation='relu'))\n",
    "model.add(Dense(8, activation='sigmoid'))\n",
    "\n",
    "# Compile the model\n",
    "model.compile(loss='categorical_crossentropy', optimizer='adam', metrics=['accuracy'])"
   ]
  },
  {
   "cell_type": "code",
   "execution_count": null,
   "id": "c0c0bc7b",
   "metadata": {},
   "outputs": [],
   "source": [
    "model.summary()"
   ]
  },
  {
   "cell_type": "code",
   "execution_count": null,
   "id": "329443c3",
   "metadata": {
    "scrolled": true
   },
   "outputs": [],
   "source": [
    "# Train the model\n",
    "model.fit(X_train, y_train, epochs=10, batch_size=32, validation_data=(X_test, y_test))\n",
    "\n",
    "# Evaluate the model on test set\n",
    "score = model.evaluate(X_test, y_test)\n",
    "print('Test accuracy:', score[1])"
   ]
  },
  {
   "cell_type": "code",
   "execution_count": null,
   "id": "9ba80afc",
   "metadata": {},
   "outputs": [],
   "source": [
    "# unlike the previous model, just getting 20 images per cuisine is certainly not enough\n",
    "# next step: get more images per cuisine"
   ]
  }
 ],
 "metadata": {
  "kernelspec": {
   "display_name": "Python 3 (ipykernel)",
   "language": "python",
   "name": "python3"
  },
  "language_info": {
   "codemirror_mode": {
    "name": "ipython",
    "version": 3
   },
   "file_extension": ".py",
   "mimetype": "text/x-python",
   "name": "python",
   "nbconvert_exporter": "python",
   "pygments_lexer": "ipython3",
   "version": "3.9.13"
  }
 },
 "nbformat": 4,
 "nbformat_minor": 5
}
