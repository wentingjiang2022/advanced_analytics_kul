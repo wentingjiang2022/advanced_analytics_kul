{
 "cells": [
  {
   "cell_type": "code",
   "execution_count": 1,
   "metadata": {},
   "outputs": [],
   "source": [
    "import os\n",
    "import csv\n",
    "import pandas as pd\n",
    "import json\n"
   ]
  },
  {
   "cell_type": "code",
   "execution_count": 49,
   "metadata": {},
   "outputs": [],
   "source": [
    "# Change this path to the folder that contains subfolders of streaming content\n",
    "path = \"/Users/anhphuong/Documents/KUL/Advanced\\ Analytics\" \n",
    "\n",
    "def is_valid_json(s):\n",
    "    try:\n",
    "        json.loads(s)\n",
    "        return True\n",
    "    except json.JSONDecodeError:\n",
    "        return False\n",
    "\n",
    "\n",
    "# Create a list of file paths for text files\n",
    "text_file_paths = [\n",
    "    os.path.join(root, name)\n",
    "    for root, dirs, files in os.walk(path)\n",
    "    for name in files\n",
    "    if not name.startswith('.')  # ignore hidden files\n",
    "    and not name.endswith(('crc', 'json', 'csv'))  \n",
    "    and not name.endswith('_SUCCESS')  # exclude SUCCESS\n",
    "]\n",
    "\n",
    "# Load the contents and append to a list\n",
    "all_contents = [open(f, 'r').read() for f in text_file_paths]\n",
    "\n",
    "# Create a list of dicts\n",
    "dicts = [json.loads(s) for s in all_contents if is_valid_json(s)]\n",
    "\n",
    "# Create dataframe\n",
    "df = pd.DataFrame(dicts)\n",
    "df.drop_duplicates(inplace=True)\n",
    "df.reset_index(drop=True, inplace=True)\n",
    "\n",
    "# Save to csv\n",
    "df.to_csv(\"reviews.csv\")"
   ]
  },
  {
   "cell_type": "code",
   "execution_count": 50,
   "metadata": {},
   "outputs": [
    {
     "data": {
      "text/plain": [
       "253"
      ]
     },
     "execution_count": 50,
     "metadata": {},
     "output_type": "execute_result"
    }
   ],
   "source": [
    "len(df)"
   ]
  },
  {
   "cell_type": "code",
   "execution_count": 46,
   "metadata": {},
   "outputs": [
    {
     "data": {
      "text/plain": [
       "0.8412017167381974"
      ]
     },
     "execution_count": 46,
     "metadata": {},
     "output_type": "execute_result"
    }
   ],
   "source": [
    "df.label.mean()"
   ]
  },
  {
   "cell_type": "code",
   "execution_count": null,
   "metadata": {},
   "outputs": [],
   "source": []
  }
 ],
 "metadata": {
  "kernelspec": {
   "display_name": "Python 3",
   "language": "python",
   "name": "python3"
  },
  "language_info": {
   "codemirror_mode": {
    "name": "ipython",
    "version": 3
   },
   "file_extension": ".py",
   "mimetype": "text/x-python",
   "name": "python",
   "nbconvert_exporter": "python",
   "pygments_lexer": "ipython3",
   "version": "3.7.4"
  },
  "orig_nbformat": 4
 },
 "nbformat": 4,
 "nbformat_minor": 2
}
