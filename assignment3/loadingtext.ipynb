{
 "cells": [
  {
   "cell_type": "code",
   "execution_count": 1,
   "metadata": {},
   "outputs": [],
   "source": [
    "import os\n",
    "import json\n",
    "import csv\n",
    "import pandas as pd"
   ]
  },
  {
   "cell_type": "code",
   "execution_count": 2,
   "metadata": {},
   "outputs": [],
   "source": [
    "path = \"/Users/anhphuong/Documents/KUL/Advanced\\ Analytics\""
   ]
  },
  {
   "cell_type": "code",
   "execution_count": 8,
   "metadata": {},
   "outputs": [],
   "source": [
    "all_contents = []\n",
    "\n",
    "for sub in os.listdir(path):\n",
    "    if sub != \".DS_Store\":\n",
    "        for text_file in os.listdir(os.path.join(path, sub)):\n",
    "            if text_file != \"._SUCCESS.crc\" and text_file != \"_SUCCESS\":\n",
    "                text_dir = os.path.join(path, sub, text_file)\n",
    "                if not text_dir.endswith(\"crc\") and not text_dir.endswith(\"json\") and not text_dir.endswith(\"csv\"):\n",
    "                    with open(text_dir, \"r\") as file:\n",
    "                        contents = file.read()\n",
    "                        all_contents.append(contents)\n",
    "                "
   ]
  },
  {
   "cell_type": "code",
   "execution_count": 67,
   "metadata": {},
   "outputs": [],
   "source": [
    "# Create a list of file paths for all text files in the input directory tree\n",
    "text_file_paths = [\n",
    "    os.path.join(root, name)\n",
    "    for root, dirs, files in os.walk(path)\n",
    "    for name in files\n",
    "    if not name.startswith('.')  # ignore hidden files\n",
    "    and not name.endswith(('crc', 'json', 'csv'))  # ignore files with certain extensions \n",
    "    and not os.path.abspath(name).endswith('_SUCCESS')  # exclude SUCCESS\n",
    "]\n",
    "\n",
    "# Load the contents of each text file as a string and append to a list\n",
    "all_contents = []\n",
    "for text_file_path in text_file_paths:\n",
    "    with open(text_file_path, 'r') as f:\n",
    "        all_contents.append(f.read())\n",
    "        \n",
    "# Make a Dataframe\n",
    "dicts = []\n",
    "\n",
    "for s in all_contents:\n",
    "    try:\n",
    "        d = json.loads(s)\n",
    "    except json.JSONDecodeError as e:\n",
    "        print(f\"Error loading JSON: {e}\")\n",
    "        continue\n",
    "    dicts.append(d)\n",
    "\n",
    "\n",
    "df = pd.DataFrame(dicts)\n",
    "print(len(df))\n",
    "\n"
   ]
  },
  {
   "cell_type": "code",
   "execution_count": 69,
   "metadata": {},
   "outputs": [
    {
     "data": {
      "text/plain": [
       "39"
      ]
     },
     "execution_count": 69,
     "metadata": {},
     "output_type": "execute_result"
    }
   ],
   "source": [
    "len(all_contents)"
   ]
  },
  {
   "cell_type": "code",
   "execution_count": 53,
   "metadata": {},
   "outputs": [
    {
     "name": "stdout",
     "output_type": "stream",
     "text": [
      "Error loading JSON: Extra data: line 2 column 1 (char 262)\n",
      "38\n"
     ]
    }
   ],
   "source": [
    "dicts = []\n",
    "\n",
    "for s in all_contents:\n",
    "    try:\n",
    "        d = json.loads(s)\n",
    "    except json.JSONDecodeError as e:\n",
    "        print(f\"Error loading JSON: {e}\")\n",
    "        continue\n",
    "    dicts.append(d)\n",
    "\n",
    "\n",
    "df = pd.DataFrame(dicts)\n",
    "print(len(df))\n"
   ]
  },
  {
   "cell_type": "code",
   "execution_count": 54,
   "metadata": {},
   "outputs": [
    {
     "data": {
      "text/html": [
       "<div>\n",
       "<style scoped>\n",
       "    .dataframe tbody tr th:only-of-type {\n",
       "        vertical-align: middle;\n",
       "    }\n",
       "\n",
       "    .dataframe tbody tr th {\n",
       "        vertical-align: top;\n",
       "    }\n",
       "\n",
       "    .dataframe thead th {\n",
       "        text-align: right;\n",
       "    }\n",
       "</style>\n",
       "<table border=\"1\" class=\"dataframe\">\n",
       "  <thead>\n",
       "    <tr style=\"text-align: right;\">\n",
       "      <th></th>\n",
       "      <th>review_id</th>\n",
       "      <th>app_id</th>\n",
       "      <th>review_text</th>\n",
       "      <th>label</th>\n",
       "    </tr>\n",
       "  </thead>\n",
       "  <tbody>\n",
       "    <tr>\n",
       "      <th>0</th>\n",
       "      <td>116734222</td>\n",
       "      <td>1729900</td>\n",
       "      <td>Its not finished yet but honestly it has great...</td>\n",
       "      <td>1</td>\n",
       "    </tr>\n",
       "    <tr>\n",
       "      <th>1</th>\n",
       "      <td>116989907</td>\n",
       "      <td>1729900</td>\n",
       "      <td>Hey. It's really good. Songs are good, Gamepla...</td>\n",
       "      <td>1</td>\n",
       "    </tr>\n",
       "    <tr>\n",
       "      <th>2</th>\n",
       "      <td>119682629</td>\n",
       "      <td>1729900</td>\n",
       "      <td>Now let me get this out of the way. The game h...</td>\n",
       "      <td>0</td>\n",
       "    </tr>\n",
       "  </tbody>\n",
       "</table>\n",
       "</div>"
      ],
      "text/plain": [
       "   review_id   app_id                                        review_text  \\\n",
       "0  116734222  1729900  Its not finished yet but honestly it has great...   \n",
       "1  116989907  1729900  Hey. It's really good. Songs are good, Gamepla...   \n",
       "2  119682629  1729900  Now let me get this out of the way. The game h...   \n",
       "\n",
       "   label  \n",
       "0      1  \n",
       "1      1  \n",
       "2      0  "
      ]
     },
     "execution_count": 54,
     "metadata": {},
     "output_type": "execute_result"
    }
   ],
   "source": [
    "df.head(3)"
   ]
  },
  {
   "cell_type": "code",
   "execution_count": 70,
   "metadata": {},
   "outputs": [],
   "source": [
    "df.to_csv(\"reviews.csv\")"
   ]
  },
  {
   "cell_type": "code",
   "execution_count": 75,
   "metadata": {},
   "outputs": [],
   "source": [
    "path = \"/Users/anhphuong/Documents/KUL/Advanced\\ Analytics\"\n",
    "\n",
    "def is_valid_json(s):\n",
    "    try:\n",
    "        json.loads(s)\n",
    "        return True\n",
    "    except json.JSONDecodeError:\n",
    "        return False\n",
    "\n",
    "\n",
    "# Create a list of file paths for all text files \n",
    "text_file_paths = [\n",
    "    os.path.join(root, name)\n",
    "    for root, dirs, files in os.walk(path)\n",
    "    for name in files\n",
    "    if not name.startswith('.')  # ignore hidden files\n",
    "    and not name.endswith(('crc', 'json', 'csv'))  # ignore files with certain extensions \n",
    "    and not os.path.abspath(name).endswith('_SUCCESS')  # exclude SUCCESS\n",
    "]\n",
    "\n",
    "# Load the contents of each text file as a string and append to a list\n",
    "all_contents = [open(f, 'r').read() for f in text_file_paths]\n",
    "\n",
    "# Create a list of dicts\n",
    "dicts = [json.loads(s) for s in all_contents if is_valid_json(s)]\n",
    "\n",
    "# Create dataframe\n",
    "df = pd.DataFrame(dicts)\n",
    "df.drop_duplicates(inplace=True)\n",
    "\n",
    "# Save to csv\n",
    "df.to_csv(\"reviews.csv\")\n"
   ]
  },
  {
   "cell_type": "code",
   "execution_count": null,
   "metadata": {},
   "outputs": [],
   "source": []
  }
 ],
 "metadata": {
  "kernelspec": {
   "display_name": "Python 3",
   "language": "python",
   "name": "python3"
  },
  "language_info": {
   "codemirror_mode": {
    "name": "ipython",
    "version": 3
   },
   "file_extension": ".py",
   "mimetype": "text/x-python",
   "name": "python",
   "nbconvert_exporter": "python",
   "pygments_lexer": "ipython3",
   "version": "3.7.4"
  },
  "orig_nbformat": 4
 },
 "nbformat": 4,
 "nbformat_minor": 2
}
